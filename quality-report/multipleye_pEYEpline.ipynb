{
 "cells": [
  {
   "cell_type": "code",
   "execution_count": 1,
   "id": "initial_id",
   "metadata": {
    "collapsed": true,
    "ExecuteTime": {
     "end_time": "2025-02-15T13:56:40.713491200Z",
     "start_time": "2025-02-15T13:56:33.384136700Z"
    }
   },
   "outputs": [],
   "source": [
    "from multipleye_data_collection import MultipleyeDataCollection\n",
    "from pathlib import Path"
   ]
  },
  {
   "cell_type": "markdown",
   "source": [
    "## Specify multipleye data collection folder"
   ],
   "metadata": {
    "collapsed": false
   },
   "id": "a1f6d29d4a552a0a"
  },
  {
   "cell_type": "code",
   "outputs": [],
   "source": [
    "data_collection_folder = 'MultiplEYE_ET_EE_Tartu_1_2025'"
   ],
   "metadata": {
    "collapsed": false,
    "ExecuteTime": {
     "end_time": "2025-02-15T13:56:40.720898100Z",
     "start_time": "2025-02-15T13:56:40.713491200Z"
    }
   },
   "id": "8083e40414becb7a",
   "execution_count": 2
  },
  {
   "cell_type": "code",
   "outputs": [
    {
     "name": "stdout",
     "output_type": "stream",
     "text": [
      "C:\\Users\\saphi\\PycharmProjects\\multipleye-preprocessing\\data\\MultiplEYE_ET_EE_Tartu_1_2025\n"
     ]
    },
    {
     "name": "stderr",
     "output_type": "stream",
     "text": [
      "Converting EDF to ASC: 100%|██████████| 9/9 [00:00<?, ?it/s]"
     ]
    },
    {
     "name": "stdout",
     "output_type": "stream",
     "text": [
      "ASC file already exists for 005_ET_EE_1_ET1.\n",
      "ASC file already exists for 006_ET_EE_1_ET1.\n",
      "ASC file already exists for 007_ET_EE_1_ET1.\n",
      "ASC file already exists for 008_ET_EE_1_ET1.\n",
      "ASC file already exists for 009_ET_EE_1_ET1.\n",
      "ASC file already exists for 010_ET_EE_1_ET1.\n",
      "ASC file already exists for 011_ET_EE_1_ET1.\n",
      "ASC file already exists for 012_ET_EE_1_ET1.\n",
      "ASC file already exists for 013_ET_EE_1_ET1.\n"
     ]
    },
    {
     "name": "stderr",
     "output_type": "stream",
     "text": [
      "\n"
     ]
    }
   ],
   "source": [
    "this_repo = Path().resolve().parent\n",
    "data_folder_path = this_repo / \"data\" / data_collection_folder \n",
    "print(data_folder_path)\n",
    "\n",
    "multipleye = MultipleyeDataCollection.create_from_data_folder(str(data_folder_path))"
   ],
   "metadata": {
    "collapsed": false,
    "ExecuteTime": {
     "end_time": "2025-02-15T13:56:41.164720600Z",
     "start_time": "2025-02-15T13:56:40.720898100Z"
    }
   },
   "id": "64a152a8493ba313",
   "execution_count": 3
  },
  {
   "cell_type": "code",
   "outputs": [
    {
     "name": "stderr",
     "output_type": "stream",
     "text": [
      "Creating gaze data:   0%|          | 0/9 [00:00<?, ?it/s]"
     ]
    },
    {
     "name": "stdout",
     "output_type": "stream",
     "text": [
      "C:\\Users\\saphi\\PycharmProjects\\multipleye-preprocessing\\data\\MultiplEYE_ET_EE_Tartu_1_2025\\eye-tracking-sessions\\quality_reports\n",
      "Experiment(sampling_rate=1000.00, screen=Screen(width_px=1585, height_px=1199, width_cm=37, height_cm=28, distance_cm=60, origin=upper left), eyetracker=EyeTracker(sampling_rate=1000.0, left=True, right=False, model='EyeLink 1000 Plus', version='5.12', vendor='EyeLink', mount='Desktop'))\n"
     ]
    },
    {
     "name": "stderr",
     "output_type": "stream",
     "text": [
      "Creating gaze data:  11%|█         | 1/9 [08:37<1:09:03, 517.89s/it]"
     ]
    },
    {
     "name": "stdout",
     "output_type": "stream",
     "text": [
      "C:\\Users\\saphi\\PycharmProjects\\multipleye-preprocessing\\data\\MultiplEYE_ET_EE_Tartu_1_2025\\eye-tracking-sessions\\quality_reports\n",
      "Experiment(sampling_rate=1000.00, screen=Screen(width_px=1585, height_px=1199, width_cm=37, height_cm=28, distance_cm=60, origin=upper left), eyetracker=EyeTracker(sampling_rate=1000.0, left=True, right=False, model='EyeLink 1000 Plus', version='5.12', vendor='EyeLink', mount='Desktop'))\n"
     ]
    },
    {
     "name": "stderr",
     "output_type": "stream",
     "text": [
      "Creating gaze data:  22%|██▏       | 2/9 [15:27<52:59, 454.19s/it]  "
     ]
    },
    {
     "name": "stdout",
     "output_type": "stream",
     "text": [
      "C:\\Users\\saphi\\PycharmProjects\\multipleye-preprocessing\\data\\MultiplEYE_ET_EE_Tartu_1_2025\\eye-tracking-sessions\\quality_reports\n",
      "Experiment(sampling_rate=1000.00, screen=Screen(width_px=1585, height_px=1199, width_cm=37, height_cm=28, distance_cm=60, origin=upper left), eyetracker=EyeTracker(sampling_rate=1000.0, left=True, right=False, model='EyeLink 1000 Plus', version='5.12', vendor='EyeLink', mount='Desktop'))\n"
     ]
    },
    {
     "name": "stderr",
     "output_type": "stream",
     "text": [
      "Creating gaze data:  33%|███▎      | 3/9 [25:30<52:13, 522.19s/it]"
     ]
    },
    {
     "name": "stdout",
     "output_type": "stream",
     "text": [
      "C:\\Users\\saphi\\PycharmProjects\\multipleye-preprocessing\\data\\MultiplEYE_ET_EE_Tartu_1_2025\\eye-tracking-sessions\\quality_reports\n",
      "Experiment(sampling_rate=1000.00, screen=Screen(width_px=1585, height_px=1199, width_cm=37, height_cm=28, distance_cm=60, origin=upper left), eyetracker=EyeTracker(sampling_rate=1000.0, left=False, right=True, model='EyeLink 1000 Plus', version='5.12', vendor='EyeLink', mount='Desktop'))\n"
     ]
    },
    {
     "name": "stderr",
     "output_type": "stream",
     "text": [
      "Creating gaze data:  44%|████▍     | 4/9 [32:50<40:48, 489.64s/it]"
     ]
    },
    {
     "name": "stdout",
     "output_type": "stream",
     "text": [
      "C:\\Users\\saphi\\PycharmProjects\\multipleye-preprocessing\\data\\MultiplEYE_ET_EE_Tartu_1_2025\\eye-tracking-sessions\\quality_reports\n",
      "Experiment(sampling_rate=1000.00, screen=Screen(width_px=1585, height_px=1199, width_cm=37, height_cm=28, distance_cm=60, origin=upper left), eyetracker=EyeTracker(sampling_rate=1000.0, left=False, right=True, model='EyeLink 1000 Plus', version='5.12', vendor='EyeLink', mount='Desktop'))\n"
     ]
    },
    {
     "name": "stderr",
     "output_type": "stream",
     "text": [
      "Creating gaze data:  56%|█████▌    | 5/9 [33:50<22:18, 334.71s/it]"
     ]
    },
    {
     "name": "stdout",
     "output_type": "stream",
     "text": [
      "C:\\Users\\saphi\\PycharmProjects\\multipleye-preprocessing\\data\\MultiplEYE_ET_EE_Tartu_1_2025\\eye-tracking-sessions\\quality_reports\n",
      "Experiment(sampling_rate=1000.00, screen=Screen(width_px=1585, height_px=1199, width_cm=37, height_cm=28, distance_cm=60, origin=upper left), eyetracker=EyeTracker(sampling_rate=1000.0, left=False, right=True, model='EyeLink 1000 Plus', version='5.12', vendor='EyeLink', mount='Desktop'))\n"
     ]
    },
    {
     "name": "stderr",
     "output_type": "stream",
     "text": [
      "C:\\Users\\saphi\\multipleye-preprocessing_2\\Lib\\site-packages\\pymovements\\events\\detection\\_microsaccades.py:194: RuntimeWarning: All-NaN slice encountered\n",
      "  thx = np.sqrt(np.nanmedian(np.power(arr[:, 0] - np.nanmedian(arr[:, 0]), 2)))\n",
      "C:\\Users\\saphi\\multipleye-preprocessing_2\\Lib\\site-packages\\pymovements\\events\\detection\\_microsaccades.py:195: RuntimeWarning: All-NaN slice encountered\n",
      "  thy = np.sqrt(np.nanmedian(np.power(arr[:, 1] - np.nanmedian(arr[:, 1]), 2)))\n",
      "Creating gaze data:  56%|█████▌    | 5/9 [39:12<31:22, 470.52s/it]\n"
     ]
    },
    {
     "ename": "KeyboardInterrupt",
     "evalue": "",
     "output_type": "error",
     "traceback": [
      "\u001B[1;31m---------------------------------------------------------------------------\u001B[0m",
      "\u001B[1;31mKeyboardInterrupt\u001B[0m                         Traceback (most recent call last)",
      "Cell \u001B[1;32mIn[5], line 1\u001B[0m\n\u001B[1;32m----> 1\u001B[0m \u001B[43mmultipleye\u001B[49m\u001B[38;5;241;43m.\u001B[39;49m\u001B[43mcreate_gaze_frame\u001B[49m\u001B[43m(\u001B[49m\u001B[43m)\u001B[49m\n",
      "File \u001B[1;32m~\\PycharmProjects\\multipleye-preprocessing\\quality-report\\multipleye_data_collection.py:128\u001B[0m, in \u001B[0;36mMultipleyeDataCollection.create_gaze_frame\u001B[1;34m(self, session, overwrite)\u001B[0m\n\u001B[0;32m    124\u001B[0m \u001B[38;5;28;01mexcept\u001B[39;00m \u001B[38;5;167;01mFileNotFoundError\u001B[39;00m:\n\u001B[0;32m    125\u001B[0m     \u001B[38;5;28;01mraise\u001B[39;00m \u001B[38;5;167;01mFileNotFoundError\u001B[39;00m(\n\u001B[0;32m    126\u001B[0m         \u001B[38;5;124mf\u001B[39m\u001B[38;5;124m\"\u001B[39m\u001B[38;5;124mNo asc file found for session \u001B[39m\u001B[38;5;132;01m{\u001B[39;00msession_name\u001B[38;5;132;01m}\u001B[39;00m\u001B[38;5;124m. Please create first.\u001B[39m\u001B[38;5;124m\"\u001B[39m)\n\u001B[1;32m--> 128\u001B[0m \u001B[43mpreprocess\u001B[49m\u001B[43m(\u001B[49m\u001B[43mgaze\u001B[49m\u001B[43m)\u001B[49m\n\u001B[0;32m    129\u001B[0m \u001B[38;5;66;03m# save and load the gaze dataframe to pickle for later usage\u001B[39;00m\n\u001B[0;32m    130\u001B[0m \u001B[38;5;28mself\u001B[39m\u001B[38;5;241m.\u001B[39msessions[session_name][\u001B[38;5;124m'\u001B[39m\u001B[38;5;124mgaze_path\u001B[39m\u001B[38;5;124m'\u001B[39m] \u001B[38;5;241m=\u001B[39m gaze_path\n",
      "File \u001B[1;32m~\\PycharmProjects\\multipleye-preprocessing\\quality-report\\plot.py:97\u001B[0m, in \u001B[0;36mpreprocess\u001B[1;34m(gaze, sg_window_length, sg_degree)\u001B[0m\n\u001B[0;32m     91\u001B[0m \u001B[38;5;28;01mfor\u001B[39;00m \u001B[38;5;28mproperty\u001B[39m, kwargs, event_name \u001B[38;5;129;01min\u001B[39;00m [\n\u001B[0;32m     92\u001B[0m     (\u001B[38;5;124m\"\u001B[39m\u001B[38;5;124mlocation\u001B[39m\u001B[38;5;124m\"\u001B[39m, \u001B[38;5;28mdict\u001B[39m(position_column\u001B[38;5;241m=\u001B[39m\u001B[38;5;124m\"\u001B[39m\u001B[38;5;124mpixel\u001B[39m\u001B[38;5;124m\"\u001B[39m), \u001B[38;5;124m\"\u001B[39m\u001B[38;5;124mfixation\u001B[39m\u001B[38;5;124m\"\u001B[39m),\n\u001B[0;32m     93\u001B[0m     (\u001B[38;5;124m\"\u001B[39m\u001B[38;5;124mamplitude\u001B[39m\u001B[38;5;124m\"\u001B[39m, \u001B[38;5;28mdict\u001B[39m(), \u001B[38;5;124m\"\u001B[39m\u001B[38;5;124msaccade\u001B[39m\u001B[38;5;124m\"\u001B[39m),\n\u001B[0;32m     94\u001B[0m     (\u001B[38;5;124m\"\u001B[39m\u001B[38;5;124mpeak_velocity\u001B[39m\u001B[38;5;124m\"\u001B[39m, \u001B[38;5;28mdict\u001B[39m(), \u001B[38;5;124m\"\u001B[39m\u001B[38;5;124msaccade\u001B[39m\u001B[38;5;124m\"\u001B[39m),\n\u001B[0;32m     95\u001B[0m ]:\n\u001B[0;32m     96\u001B[0m     processor \u001B[38;5;241m=\u001B[39m pm\u001B[38;5;241m.\u001B[39mEventGazeProcessor((\u001B[38;5;28mproperty\u001B[39m, kwargs))\n\u001B[1;32m---> 97\u001B[0m     new_properties \u001B[38;5;241m=\u001B[39m \u001B[43mprocessor\u001B[49m\u001B[38;5;241;43m.\u001B[39;49m\u001B[43mprocess\u001B[49m\u001B[43m(\u001B[49m\n\u001B[0;32m     98\u001B[0m \u001B[43m        \u001B[49m\u001B[43mgaze\u001B[49m\u001B[38;5;241;43m.\u001B[39;49m\u001B[43mevents\u001B[49m\u001B[43m,\u001B[49m\n\u001B[0;32m     99\u001B[0m \u001B[43m        \u001B[49m\u001B[43mgaze\u001B[49m\u001B[43m,\u001B[49m\n\u001B[0;32m    100\u001B[0m \u001B[43m        \u001B[49m\u001B[43midentifiers\u001B[49m\u001B[38;5;241;43m=\u001B[39;49m\u001B[43mgaze\u001B[49m\u001B[38;5;241;43m.\u001B[39;49m\u001B[43mtrial_columns\u001B[49m\u001B[43m,\u001B[49m\n\u001B[0;32m    101\u001B[0m \u001B[43m        \u001B[49m\u001B[43mname\u001B[49m\u001B[38;5;241;43m=\u001B[39;49m\u001B[43mevent_name\u001B[49m\u001B[43m,\u001B[49m\n\u001B[0;32m    102\u001B[0m \u001B[43m    \u001B[49m\u001B[43m)\u001B[49m\n\u001B[0;32m    103\u001B[0m     join_on \u001B[38;5;241m=\u001B[39m gaze\u001B[38;5;241m.\u001B[39mtrial_columns \u001B[38;5;241m+\u001B[39m [\u001B[38;5;124m\"\u001B[39m\u001B[38;5;124mname\u001B[39m\u001B[38;5;124m\"\u001B[39m, \u001B[38;5;124m\"\u001B[39m\u001B[38;5;124monset\u001B[39m\u001B[38;5;124m\"\u001B[39m, \u001B[38;5;124m\"\u001B[39m\u001B[38;5;124moffset\u001B[39m\u001B[38;5;124m\"\u001B[39m]\n\u001B[0;32m    104\u001B[0m     gaze\u001B[38;5;241m.\u001B[39mevents\u001B[38;5;241m.\u001B[39madd_event_properties(new_properties, join_on\u001B[38;5;241m=\u001B[39mjoin_on)\n",
      "File \u001B[1;32m~\\multipleye-preprocessing_2\\Lib\\site-packages\\pymovements\\events\\processing.py:193\u001B[0m, in \u001B[0;36mEventGazeProcessor.process\u001B[1;34m(self, events, gaze, identifiers, name)\u001B[0m\n\u001B[0;32m    190\u001B[0m property_values \u001B[38;5;241m=\u001B[39m defaultdict(\u001B[38;5;28mlist\u001B[39m)\n\u001B[0;32m    191\u001B[0m \u001B[38;5;28;01mfor\u001B[39;00m event \u001B[38;5;129;01min\u001B[39;00m events_frame\u001B[38;5;241m.\u001B[39miter_rows(named\u001B[38;5;241m=\u001B[39m\u001B[38;5;28;01mTrue\u001B[39;00m):\n\u001B[0;32m    192\u001B[0m     \u001B[38;5;66;03m# Find gaze samples that belong to the current event.\u001B[39;00m\n\u001B[1;32m--> 193\u001B[0m     filtered_gaze \u001B[38;5;241m=\u001B[39m \u001B[43mgaze\u001B[49m\u001B[38;5;241;43m.\u001B[39;49m\u001B[43mframe\u001B[49m\u001B[38;5;241;43m.\u001B[39;49m\u001B[43mfilter\u001B[49m\u001B[43m(\u001B[49m\n\u001B[0;32m    194\u001B[0m \u001B[43m        \u001B[49m\u001B[43mpl\u001B[49m\u001B[38;5;241;43m.\u001B[39;49m\u001B[43mcol\u001B[49m\u001B[43m(\u001B[49m\u001B[38;5;124;43m'\u001B[39;49m\u001B[38;5;124;43mtime\u001B[39;49m\u001B[38;5;124;43m'\u001B[39;49m\u001B[43m)\u001B[49m\u001B[38;5;241;43m.\u001B[39;49m\u001B[43mis_between\u001B[49m\u001B[43m(\u001B[49m\u001B[43mevent\u001B[49m\u001B[43m[\u001B[49m\u001B[38;5;124;43m'\u001B[39;49m\u001B[38;5;124;43monset\u001B[39;49m\u001B[38;5;124;43m'\u001B[39;49m\u001B[43m]\u001B[49m\u001B[43m,\u001B[49m\u001B[43m \u001B[49m\u001B[43mevent\u001B[49m\u001B[43m[\u001B[49m\u001B[38;5;124;43m'\u001B[39;49m\u001B[38;5;124;43moffset\u001B[39;49m\u001B[38;5;124;43m'\u001B[39;49m\u001B[43m]\u001B[49m\u001B[43m)\u001B[49m\u001B[43m,\u001B[49m\n\u001B[0;32m    195\u001B[0m \u001B[43m        \u001B[49m\u001B[38;5;241;43m*\u001B[39;49m\u001B[43m[\u001B[49m\u001B[43mpl\u001B[49m\u001B[38;5;241;43m.\u001B[39;49m\u001B[43mcol\u001B[49m\u001B[43m(\u001B[49m\u001B[43midentifier\u001B[49m\u001B[43m)\u001B[49m\u001B[43m \u001B[49m\u001B[38;5;241;43m==\u001B[39;49m\u001B[43m \u001B[49m\u001B[43mevent\u001B[49m\u001B[43m[\u001B[49m\u001B[43midentifier\u001B[49m\u001B[43m]\u001B[49m\u001B[43m \u001B[49m\u001B[38;5;28;43;01mfor\u001B[39;49;00m\u001B[43m \u001B[49m\u001B[43midentifier\u001B[49m\u001B[43m \u001B[49m\u001B[38;5;129;43;01min\u001B[39;49;00m\u001B[43m \u001B[49m\u001B[43mtrial_identifiers\u001B[49m\u001B[43m]\u001B[49m\u001B[43m,\u001B[49m\n\u001B[0;32m    196\u001B[0m \u001B[43m    \u001B[49m\u001B[43m)\u001B[49m\n\u001B[0;32m    197\u001B[0m     \u001B[38;5;66;03m# Compute event property values.\u001B[39;00m\n\u001B[0;32m    198\u001B[0m     values \u001B[38;5;241m=\u001B[39m filtered_gaze\u001B[38;5;241m.\u001B[39mselect(\n\u001B[0;32m    199\u001B[0m         [\n\u001B[0;32m    200\u001B[0m             this_property_expression(\u001B[38;5;241m*\u001B[39m\u001B[38;5;241m*\u001B[39mthis_property_kwargs)\n\u001B[1;32m   (...)\u001B[0m\n\u001B[0;32m    204\u001B[0m         ],\n\u001B[0;32m    205\u001B[0m     )\n",
      "File \u001B[1;32m~\\multipleye-preprocessing_2\\Lib\\site-packages\\polars\\dataframe\\frame.py:4774\u001B[0m, in \u001B[0;36mDataFrame.filter\u001B[1;34m(self, *predicates, **constraints)\u001B[0m\n\u001B[0;32m   4620\u001B[0m \u001B[38;5;28;01mdef\u001B[39;00m \u001B[38;5;21mfilter\u001B[39m(\n\u001B[0;32m   4621\u001B[0m     \u001B[38;5;28mself\u001B[39m,\n\u001B[0;32m   4622\u001B[0m     \u001B[38;5;241m*\u001B[39mpredicates: (\n\u001B[1;32m   (...)\u001B[0m\n\u001B[0;32m   4629\u001B[0m     \u001B[38;5;241m*\u001B[39m\u001B[38;5;241m*\u001B[39mconstraints: Any,\n\u001B[0;32m   4630\u001B[0m ) \u001B[38;5;241m-\u001B[39m\u001B[38;5;241m>\u001B[39m DataFrame:\n\u001B[0;32m   4631\u001B[0m \u001B[38;5;250m    \u001B[39m\u001B[38;5;124;03m\"\"\"\u001B[39;00m\n\u001B[0;32m   4632\u001B[0m \u001B[38;5;124;03m    Filter the rows in the DataFrame based on one or more predicate expressions.\u001B[39;00m\n\u001B[0;32m   4633\u001B[0m \n\u001B[1;32m   (...)\u001B[0m\n\u001B[0;32m   4772\u001B[0m \n\u001B[0;32m   4773\u001B[0m \u001B[38;5;124;03m    \"\"\"\u001B[39;00m\n\u001B[1;32m-> 4774\u001B[0m     \u001B[38;5;28;01mreturn\u001B[39;00m \u001B[38;5;28;43mself\u001B[39;49m\u001B[38;5;241;43m.\u001B[39;49m\u001B[43mlazy\u001B[49m\u001B[43m(\u001B[49m\u001B[43m)\u001B[49m\u001B[38;5;241;43m.\u001B[39;49m\u001B[43mfilter\u001B[49m\u001B[43m(\u001B[49m\u001B[38;5;241;43m*\u001B[39;49m\u001B[43mpredicates\u001B[49m\u001B[43m,\u001B[49m\u001B[43m \u001B[49m\u001B[38;5;241;43m*\u001B[39;49m\u001B[38;5;241;43m*\u001B[39;49m\u001B[43mconstraints\u001B[49m\u001B[43m)\u001B[49m\u001B[38;5;241;43m.\u001B[39;49m\u001B[43mcollect\u001B[49m\u001B[43m(\u001B[49m\u001B[43m_eager\u001B[49m\u001B[38;5;241;43m=\u001B[39;49m\u001B[38;5;28;43;01mTrue\u001B[39;49;00m\u001B[43m)\u001B[49m\n",
      "File \u001B[1;32m~\\multipleye-preprocessing_2\\Lib\\site-packages\\polars\\lazyframe\\frame.py:2029\u001B[0m, in \u001B[0;36mLazyFrame.collect\u001B[1;34m(self, type_coercion, predicate_pushdown, projection_pushdown, simplify_expression, slice_pushdown, comm_subplan_elim, comm_subexpr_elim, cluster_with_columns, collapse_joins, no_optimization, streaming, engine, background, _eager, **_kwargs)\u001B[0m\n\u001B[0;32m   2027\u001B[0m \u001B[38;5;66;03m# Only for testing purposes\u001B[39;00m\n\u001B[0;32m   2028\u001B[0m callback \u001B[38;5;241m=\u001B[39m _kwargs\u001B[38;5;241m.\u001B[39mget(\u001B[38;5;124m\"\u001B[39m\u001B[38;5;124mpost_opt_callback\u001B[39m\u001B[38;5;124m\"\u001B[39m, callback)\n\u001B[1;32m-> 2029\u001B[0m \u001B[38;5;28;01mreturn\u001B[39;00m wrap_df(\u001B[43mldf\u001B[49m\u001B[38;5;241;43m.\u001B[39;49m\u001B[43mcollect\u001B[49m\u001B[43m(\u001B[49m\u001B[43mcallback\u001B[49m\u001B[43m)\u001B[49m)\n",
      "\u001B[1;31mKeyboardInterrupt\u001B[0m: "
     ]
    }
   ],
   "source": [
    "multipleye.create_gaze_frame()"
   ],
   "metadata": {
    "collapsed": false,
    "ExecuteTime": {
     "end_time": "2025-02-15T13:53:07.283770900Z",
     "start_time": "2025-02-15T13:13:53.996343900Z"
    }
   },
   "id": "1142be525a888011",
   "execution_count": 5
  },
  {
   "cell_type": "code",
   "outputs": [],
   "source": [
    "gaze_005 = multipleye.get_gaze_frame(\"005_ET_EE_1_ET1\")"
   ],
   "metadata": {
    "collapsed": false,
    "ExecuteTime": {
     "end_time": "2025-02-15T13:53:46.281311300Z",
     "start_time": "2025-02-15T13:53:45.149197900Z"
    }
   },
   "id": "24d86243b89894d2",
   "execution_count": 9
  },
  {
   "cell_type": "code",
   "outputs": [
    {
     "ename": "FileNotFoundError",
     "evalue": "[Errno 2] No such file or directory: 'C:\\\\Users\\\\saphi\\\\PycharmProjects\\\\multipleye-preprocessing\\\\data\\\\MultiplEYE_ET_EE_Tartu_1_2025\\\\eye-tracking-sessions\\\\quality_reports\\\\005_ET_EE_1_ET1\\\\005_ET_EE_1_ET1_report.txt'",
     "output_type": "error",
     "traceback": [
      "\u001B[1;31m---------------------------------------------------------------------------\u001B[0m",
      "\u001B[1;31mFileNotFoundError\u001B[0m                         Traceback (most recent call last)",
      "Cell \u001B[1;32mIn[4], line 1\u001B[0m\n\u001B[1;32m----> 1\u001B[0m \u001B[43mmultipleye\u001B[49m\u001B[38;5;241;43m.\u001B[39;49m\u001B[43mcreate_sanity_check_report\u001B[49m\u001B[43m(\u001B[49m\u001B[43m)\u001B[49m\n",
      "File \u001B[1;32m~\\PycharmProjects\\multipleye-preprocessing\\quality-report\\multipleye_data_collection.py:140\u001B[0m, in \u001B[0;36mMultipleyeDataCollection.create_sanity_check_report\u001B[1;34m(self)\u001B[0m\n\u001B[0;32m    137\u001B[0m \u001B[38;5;28;01mdef\u001B[39;00m \u001B[38;5;21mcreate_sanity_check_report\u001B[39m(\u001B[38;5;28mself\u001B[39m):\n\u001B[0;32m    139\u001B[0m     \u001B[38;5;28;01mfor\u001B[39;00m session_name, session \u001B[38;5;129;01min\u001B[39;00m \u001B[38;5;28mself\u001B[39m\u001B[38;5;241m.\u001B[39msessions\u001B[38;5;241m.\u001B[39mitems():\n\u001B[1;32m--> 140\u001B[0m         report_file \u001B[38;5;241m=\u001B[39m \u001B[38;5;28;43mopen\u001B[39;49m\u001B[43m(\u001B[49m\u001B[38;5;28;43mself\u001B[39;49m\u001B[38;5;241;43m.\u001B[39;49m\u001B[43moutput_dir\u001B[49m\u001B[43m \u001B[49m\u001B[38;5;241;43m/\u001B[39;49m\u001B[43m \u001B[49m\u001B[43msession_name\u001B[49m\u001B[43m \u001B[49m\u001B[38;5;241;43m/\u001B[39;49m\u001B[43m \u001B[49m\u001B[38;5;124;43mf\u001B[39;49m\u001B[38;5;124;43m\"\u001B[39;49m\u001B[38;5;132;43;01m{\u001B[39;49;00m\u001B[43msession_name\u001B[49m\u001B[38;5;132;43;01m}\u001B[39;49;00m\u001B[38;5;124;43m_report.txt\u001B[39;49m\u001B[38;5;124;43m\"\u001B[39;49m\u001B[43m,\u001B[49m\u001B[43m \u001B[49m\u001B[38;5;124;43m\"\u001B[39;49m\u001B[38;5;124;43mw+\u001B[39;49m\u001B[38;5;124;43m\"\u001B[39;49m\u001B[43m,\u001B[49m\u001B[43m \u001B[49m\u001B[43mencoding\u001B[49m\u001B[38;5;241;43m=\u001B[39;49m\u001B[38;5;124;43m\"\u001B[39;49m\u001B[38;5;124;43mutf-8\u001B[39;49m\u001B[38;5;124;43m\"\u001B[39;49m\u001B[43m)\u001B[49m\n\u001B[0;32m    141\u001B[0m         gaze \u001B[38;5;241m=\u001B[39m \u001B[38;5;28mself\u001B[39m\u001B[38;5;241m.\u001B[39mget_gaze_frame(session_name)\n\u001B[0;32m    142\u001B[0m         report \u001B[38;5;241m=\u001B[39m partial(report_meta, report_file\u001B[38;5;241m=\u001B[39mreport_file)\n",
      "\u001B[1;31mFileNotFoundError\u001B[0m: [Errno 2] No such file or directory: 'C:\\\\Users\\\\saphi\\\\PycharmProjects\\\\multipleye-preprocessing\\\\data\\\\MultiplEYE_ET_EE_Tartu_1_2025\\\\eye-tracking-sessions\\\\quality_reports\\\\005_ET_EE_1_ET1\\\\005_ET_EE_1_ET1_report.txt'"
     ]
    }
   ],
   "source": [
    "multipleye.create_sanity_check_report()"
   ],
   "metadata": {
    "collapsed": false,
    "ExecuteTime": {
     "end_time": "2025-02-15T13:56:47.730868800Z",
     "start_time": "2025-02-15T13:56:47.293476100Z"
    }
   },
   "id": "12ead3036add9fb5",
   "execution_count": 4
  },
  {
   "cell_type": "code",
   "execution_count": null,
   "outputs": [],
   "source": [],
   "metadata": {
    "collapsed": false
   },
   "id": "7e63e090115eac83"
  }
 ],
 "metadata": {
  "kernelspec": {
   "display_name": "Python 3",
   "language": "python",
   "name": "python3"
  },
  "language_info": {
   "codemirror_mode": {
    "name": "ipython",
    "version": 2
   },
   "file_extension": ".py",
   "mimetype": "text/x-python",
   "name": "python",
   "nbconvert_exporter": "python",
   "pygments_lexer": "ipython2",
   "version": "2.7.6"
  }
 },
 "nbformat": 4,
 "nbformat_minor": 5
}
