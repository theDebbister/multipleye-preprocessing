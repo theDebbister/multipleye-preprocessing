{
 "cells": [
  {
   "cell_type": "code",
   "execution_count": 4,
   "id": "initial_id",
   "metadata": {
    "collapsed": true,
    "ExecuteTime": {
     "end_time": "2025-03-04T10:25:50.319315200Z",
     "start_time": "2025-03-04T10:25:50.282520100Z"
    }
   },
   "outputs": [],
   "source": [
    "from multipleye_data_collection import MultipleyeDataCollection\n",
    "from pathlib import Path"
   ]
  },
  {
   "cell_type": "markdown",
   "source": [
    "## Specify multipleye data collection folder"
   ],
   "metadata": {
    "collapsed": false
   },
   "id": "a1f6d29d4a552a0a"
  },
  {
   "cell_type": "code",
   "outputs": [],
   "source": [
    "data_collection_folder = 'MultiplEYE_ET_EE_Tartu_1_2025'"
   ],
   "metadata": {
    "collapsed": false,
    "ExecuteTime": {
     "end_time": "2025-03-04T10:25:50.320314700Z",
     "start_time": "2025-03-04T10:25:50.290680100Z"
    }
   },
   "id": "8083e40414becb7a",
   "execution_count": 5
  },
  {
   "cell_type": "code",
   "outputs": [
    {
     "name": "stdout",
     "output_type": "stream",
     "text": [
      "C:\\Users\\saphi\\PycharmProjects\\multipleye-preprocessing\\data\\MultiplEYE_ET_EE_Tartu_1_2025\n"
     ]
    },
    {
     "name": "stderr",
     "output_type": "stream",
     "text": [
      "Converting EDF to ASC: 100%|██████████| 9/9 [00:00<00:00, 7823.57it/s]"
     ]
    },
    {
     "name": "stdout",
     "output_type": "stream",
     "text": [
      "ASC file already exists for 005_ET_EE_1_ET1.\n",
      "ASC file already exists for 006_ET_EE_1_ET1.\n",
      "ASC file already exists for 007_ET_EE_1_ET1.\n",
      "ASC file already exists for 008_ET_EE_1_ET1.\n",
      "ASC file already exists for 009_ET_EE_1_ET1.\n",
      "ASC file already exists for 010_ET_EE_1_ET1.\n",
      "ASC file already exists for 011_ET_EE_1_ET1.\n",
      "ASC file already exists for 012_ET_EE_1_ET1.\n",
      "ASC file already exists for 013_ET_EE_1_ET1.\n"
     ]
    },
    {
     "name": "stderr",
     "output_type": "stream",
     "text": [
      "\n"
     ]
    }
   ],
   "source": [
    "this_repo = Path().resolve().parent\n",
    "data_folder_path = this_repo / \"data\" / data_collection_folder \n",
    "print(data_folder_path)\n",
    "\n",
    "multipleye = MultipleyeDataCollection.create_from_data_folder(str(data_folder_path))"
   ],
   "metadata": {
    "collapsed": false,
    "ExecuteTime": {
     "end_time": "2025-03-04T10:25:50.635555200Z",
     "start_time": "2025-03-04T10:25:50.294626Z"
    }
   },
   "id": "64a152a8493ba313",
   "execution_count": 6
  },
  {
   "cell_type": "code",
   "outputs": [
    {
     "name": "stderr",
     "output_type": "stream",
     "text": [
      "Creating gaze data:   0%|          | 0/9 [00:00<?, ?it/s]"
     ]
    },
    {
     "name": "stdout",
     "output_type": "stream",
     "text": [
      "C:\\Users\\saphi\\PycharmProjects\\multipleye-preprocessing\\data\\MultiplEYE_ET_EE_Tartu_1_2025\\eye-tracking-sessions\\quality_reports\\005_ET_EE_1_ET1\n",
      "Gaze data already exists for 005_ET_EE_1_ET1.\n"
     ]
    },
    {
     "name": "stderr",
     "output_type": "stream",
     "text": [
      "\n"
     ]
    }
   ],
   "source": [
    "multipleye.create_gaze_frame()"
   ],
   "metadata": {
    "collapsed": false,
    "ExecuteTime": {
     "end_time": "2025-03-04T10:25:50.644074400Z",
     "start_time": "2025-03-04T10:25:50.632312Z"
    }
   },
   "id": "1142be525a888011",
   "execution_count": 7
  },
  {
   "cell_type": "code",
   "outputs": [
    {
     "name": "stdout",
     "output_type": "stream",
     "text": [
      "Found pkl file for 005_ET_EE_1_ET1.\n"
     ]
    }
   ],
   "source": [
    "gaze_005 = multipleye.get_gaze_frame(\"005_ET_EE_1_ET1\")"
   ],
   "metadata": {
    "collapsed": false,
    "ExecuteTime": {
     "end_time": "2025-03-04T10:25:52.298291600Z",
     "start_time": "2025-03-04T10:25:50.638077400Z"
    }
   },
   "id": "24d86243b89894d2",
   "execution_count": 8
  },
  {
   "cell_type": "code",
   "outputs": [
    {
     "name": "stdout",
     "output_type": "stream",
     "text": [
      "Found pkl file for 010_ET_EE_1_ET1.\n",
      "0.37 6091080\n",
      "next validation, 178.05 seconds later with score 0.23\n"
     ]
    }
   ],
   "source": [
    "multipleye.create_sanity_check_report(\"010_ET_EE_1_ET1\")"
   ],
   "metadata": {
    "collapsed": false,
    "ExecuteTime": {
     "end_time": "2025-03-04T11:18:20.990708400Z",
     "start_time": "2025-03-04T11:18:17.604428700Z"
    }
   },
   "id": "12ead3036add9fb5",
   "execution_count": 10
  },
  {
   "cell_type": "code",
   "execution_count": 9,
   "outputs": [],
   "source": [],
   "metadata": {
    "collapsed": false,
    "ExecuteTime": {
     "end_time": "2025-03-04T10:25:55.315179200Z",
     "start_time": "2025-03-04T10:25:55.309666700Z"
    }
   },
   "id": "7e63e090115eac83"
  }
 ],
 "metadata": {
  "kernelspec": {
   "display_name": "Python 3",
   "language": "python",
   "name": "python3"
  },
  "language_info": {
   "codemirror_mode": {
    "name": "ipython",
    "version": 2
   },
   "file_extension": ".py",
   "mimetype": "text/x-python",
   "name": "python",
   "nbconvert_exporter": "python",
   "pygments_lexer": "ipython2",
   "version": "2.7.6"
  }
 },
 "nbformat": 4,
 "nbformat_minor": 5
}
