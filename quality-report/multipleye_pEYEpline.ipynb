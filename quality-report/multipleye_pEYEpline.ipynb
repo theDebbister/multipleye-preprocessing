{
 "cells": [
  {
   "cell_type": "code",
   "execution_count": 1,
   "id": "initial_id",
   "metadata": {
    "collapsed": true,
    "ExecuteTime": {
     "end_time": "2025-02-10T14:59:28.963344Z",
     "start_time": "2025-02-10T14:59:27.974042Z"
    }
   },
   "outputs": [],
   "source": [
    "from multipleye_data_collection import MultipleyeDataCollection\n",
    "from pathlib import Path"
   ]
  },
  {
   "cell_type": "markdown",
   "source": [
    "## Specify multipleye data collection folder"
   ],
   "metadata": {
    "collapsed": false
   },
   "id": "a1f6d29d4a552a0a"
  },
  {
   "cell_type": "code",
   "outputs": [],
   "source": [
    "data_collection_folder = 'MultiplEYE_ET_EE_Tartu_1_2025'"
   ],
   "metadata": {
    "collapsed": false,
    "ExecuteTime": {
     "end_time": "2025-02-10T14:59:28.967282Z",
     "start_time": "2025-02-10T14:59:28.964548Z"
    }
   },
   "id": "8083e40414becb7a",
   "execution_count": 2
  },
  {
   "cell_type": "code",
   "outputs": [
    {
     "name": "stderr",
     "output_type": "stream",
     "text": [
      "Converting EDF to ASC: 100%|██████████| 3/3 [00:00<00:00, 17873.45it/s]"
     ]
    },
    {
     "name": "stdout",
     "output_type": "stream",
     "text": [
      "ASC file already exists for 001_ET_EE_1_ET1.\n",
      "ASC file already exists for 002_ET_EE_1_ET1.\n",
      "ASC file already exists for 003_ET_EE_1_ET1.\n"
     ]
    },
    {
     "name": "stderr",
     "output_type": "stream",
     "text": [
      "\n"
     ]
    }
   ],
   "source": [
    "this_repo = Path().resolve().parent\n",
    "data_folder_path = this_repo / \"data\" / data_collection_folder\n",
    "\n",
    "multipleye = MultipleyeDataCollection.create_from_data_folder(str(data_folder_path))"
   ],
   "metadata": {
    "collapsed": false,
    "ExecuteTime": {
     "end_time": "2025-02-10T14:59:29.177766Z",
     "start_time": "2025-02-10T14:59:28.966727Z"
    }
   },
   "id": "64a152a8493ba313",
   "execution_count": 3
  },
  {
   "cell_type": "code",
   "outputs": [
    {
     "name": "stderr",
     "output_type": "stream",
     "text": [
      "Creating gaze data:   0%|          | 0/3 [00:00<?, ?it/s]"
     ]
    },
    {
     "name": "stdout",
     "output_type": "stream",
     "text": [
      "/Users/debor/repos/multipleye-preprocessing/data/MultiplEYE_ET_EE_Tartu_1_2025/quality_reports\n"
     ]
    },
    {
     "name": "stderr",
     "output_type": "stream",
     "text": [
      "\n"
     ]
    }
   ],
   "source": [
    "multipleye.create_gaze_frame()"
   ],
   "metadata": {
    "collapsed": false,
    "ExecuteTime": {
     "end_time": "2025-02-10T14:59:29.181993Z",
     "start_time": "2025-02-10T14:59:29.178596Z"
    }
   },
   "id": "1142be525a888011",
   "execution_count": 4
  },
  {
   "cell_type": "code",
   "outputs": [],
   "source": [
    "gaze_001 = multipleye.get_gaze_frame(\"001_ET_EE_1_ET1\")"
   ],
   "metadata": {
    "collapsed": false,
    "ExecuteTime": {
     "end_time": "2025-02-10T14:59:29.766658Z",
     "start_time": "2025-02-10T14:59:29.182079Z"
    }
   },
   "id": "24d86243b89894d2",
   "execution_count": 5
  },
  {
   "cell_type": "code",
   "outputs": [
    {
     "ename": "FileNotFoundError",
     "evalue": "[Errno 2] No such file or directory: '/Users/debor/repos/multipleye-preprocessing/data/MultiplEYE_ET_EE_Tartu_1_2025/quality_reports/001_ET_EE_1_ET1/001_ET_EE_1_ET1_report.txt'",
     "output_type": "error",
     "traceback": [
      "\u001B[0;31m---------------------------------------------------------------------------\u001B[0m",
      "\u001B[0;31mFileNotFoundError\u001B[0m                         Traceback (most recent call last)",
      "Cell \u001B[0;32mIn[6], line 1\u001B[0m\n\u001B[0;32m----> 1\u001B[0m \u001B[43mmultipleye\u001B[49m\u001B[38;5;241;43m.\u001B[39;49m\u001B[43mcreate_sanity_check_report\u001B[49m\u001B[43m(\u001B[49m\u001B[43m)\u001B[49m\n",
      "File \u001B[0;32m~/repos/multipleye-preprocessing/quality-report/multipleye_data_collection.py:136\u001B[0m, in \u001B[0;36mMultipleyeDataCollection.create_sanity_check_report\u001B[0;34m(self)\u001B[0m\n\u001B[1;32m    133\u001B[0m \u001B[38;5;28;01mdef\u001B[39;00m\u001B[38;5;250m \u001B[39m\u001B[38;5;21mcreate_sanity_check_report\u001B[39m(\u001B[38;5;28mself\u001B[39m):\n\u001B[1;32m    135\u001B[0m     \u001B[38;5;28;01mfor\u001B[39;00m session_name, session \u001B[38;5;129;01min\u001B[39;00m \u001B[38;5;28mself\u001B[39m\u001B[38;5;241m.\u001B[39msessions\u001B[38;5;241m.\u001B[39mitems():\n\u001B[0;32m--> 136\u001B[0m         report_file \u001B[38;5;241m=\u001B[39m \u001B[38;5;28;43mopen\u001B[39;49m\u001B[43m(\u001B[49m\u001B[38;5;28;43mself\u001B[39;49m\u001B[38;5;241;43m.\u001B[39;49m\u001B[43moutput_dir\u001B[49m\u001B[43m \u001B[49m\u001B[38;5;241;43m/\u001B[39;49m\u001B[43m \u001B[49m\u001B[43msession_name\u001B[49m\u001B[43m \u001B[49m\u001B[38;5;241;43m/\u001B[39;49m\u001B[43m \u001B[49m\u001B[38;5;124;43mf\u001B[39;49m\u001B[38;5;124;43m\"\u001B[39;49m\u001B[38;5;132;43;01m{\u001B[39;49;00m\u001B[43msession_name\u001B[49m\u001B[38;5;132;43;01m}\u001B[39;49;00m\u001B[38;5;124;43m_report.txt\u001B[39;49m\u001B[38;5;124;43m\"\u001B[39;49m\u001B[43m,\u001B[49m\u001B[43m \u001B[49m\u001B[38;5;124;43m\"\u001B[39;49m\u001B[38;5;124;43mw\u001B[39;49m\u001B[38;5;124;43m\"\u001B[39;49m\u001B[43m,\u001B[49m\u001B[43m \u001B[49m\u001B[43mencoding\u001B[49m\u001B[38;5;241;43m=\u001B[39;49m\u001B[38;5;124;43m\"\u001B[39;49m\u001B[38;5;124;43mutf-8\u001B[39;49m\u001B[38;5;124;43m\"\u001B[39;49m\u001B[43m)\u001B[49m\n\u001B[1;32m    137\u001B[0m         gaze \u001B[38;5;241m=\u001B[39m \u001B[38;5;28mself\u001B[39m\u001B[38;5;241m.\u001B[39mget_gaze_frame(session_name)\n\u001B[1;32m    138\u001B[0m         report \u001B[38;5;241m=\u001B[39m partial(report_meta, report_file\u001B[38;5;241m=\u001B[39mreport_file)\n",
      "\u001B[0;31mFileNotFoundError\u001B[0m: [Errno 2] No such file or directory: '/Users/debor/repos/multipleye-preprocessing/data/MultiplEYE_ET_EE_Tartu_1_2025/quality_reports/001_ET_EE_1_ET1/001_ET_EE_1_ET1_report.txt'"
     ]
    }
   ],
   "source": [
    "multipleye.create_sanity_check_report()"
   ],
   "metadata": {
    "collapsed": false,
    "ExecuteTime": {
     "end_time": "2025-02-10T14:59:29.884574Z",
     "start_time": "2025-02-10T14:59:29.766645Z"
    }
   },
   "id": "12ead3036add9fb5",
   "execution_count": 6
  }
 ],
 "metadata": {
  "kernelspec": {
   "display_name": "Python 3",
   "language": "python",
   "name": "python3"
  },
  "language_info": {
   "codemirror_mode": {
    "name": "ipython",
    "version": 2
   },
   "file_extension": ".py",
   "mimetype": "text/x-python",
   "name": "python",
   "nbconvert_exporter": "python",
   "pygments_lexer": "ipython2",
   "version": "2.7.6"
  }
 },
 "nbformat": 4,
 "nbformat_minor": 5
}
