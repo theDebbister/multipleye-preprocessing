{
 "cells": [
  {
   "cell_type": "code",
   "execution_count": 1,
   "id": "initial_id",
   "metadata": {
    "collapsed": true,
    "ExecuteTime": {
     "end_time": "2025-03-12T12:46:00.495713Z",
     "start_time": "2025-03-12T12:45:58.455569Z"
    }
   },
   "outputs": [],
   "source": [
    "from multipleye_data_collection import MultipleyeDataCollection\n",
    "from pathlib import Path\n",
    "import logging"
   ]
  },
  {
   "cell_type": "markdown",
   "source": [
    "## Specify multipleye data collection folder"
   ],
   "metadata": {
    "collapsed": false
   },
   "id": "a1f6d29d4a552a0a"
  },
  {
   "cell_type": "markdown",
   "source": [],
   "metadata": {
    "collapsed": false
   },
   "id": "edab7abc898e6a9"
  },
  {
   "cell_type": "code",
   "outputs": [],
   "source": [
    "\n",
    "logging.basicConfig(level=logging.INFO)\n",
    "data_collection_folder = 'MultiplEYE_RU_RU_NewYork_1_2025'"
   ],
   "metadata": {
    "collapsed": false,
    "ExecuteTime": {
     "end_time": "2025-03-12T12:46:00.504565800Z",
     "start_time": "2025-03-12T12:46:00.495713Z"
    }
   },
   "id": "8083e40414becb7a",
   "execution_count": 2
  },
  {
   "cell_type": "code",
   "execution_count": 2,
   "outputs": [],
   "source": [],
   "metadata": {
    "collapsed": false,
    "ExecuteTime": {
     "end_time": "2025-03-12T12:46:00.505075300Z",
     "start_time": "2025-03-12T12:46:00.501508500Z"
    }
   },
   "id": "365b003d6601bf2b"
  },
  {
   "cell_type": "code",
   "execution_count": 2,
   "outputs": [],
   "source": [],
   "metadata": {
    "collapsed": false,
    "ExecuteTime": {
     "end_time": "2025-03-12T12:46:00.505075300Z",
     "start_time": "2025-03-12T12:46:00.504565800Z"
    }
   },
   "id": "5a04625187ace56f"
  },
  {
   "cell_type": "code",
   "outputs": [
    {
     "name": "stdout",
     "output_type": "stream",
     "text": [
      "C:\\Users\\saphi\\PycharmProjects\\multipleye-preprocessing\\data\\MultiplEYE_RU_RU_NewYork_1_2025\n"
     ]
    },
    {
     "name": "stderr",
     "output_type": "stream",
     "text": [
      "Converting EDF to ASC: 100%|██████████| 2/2 [00:00<?, ?it/s]"
     ]
    },
    {
     "name": "stdout",
     "output_type": "stream",
     "text": [
      "ASC file already exists for 001_RU_RU_1_ET1.\n",
      "ASC file already exists for 005_RU_RU_1_ET1.\n"
     ]
    },
    {
     "name": "stderr",
     "output_type": "stream",
     "text": [
      "\n"
     ]
    }
   ],
   "source": [
    "this_repo = Path().resolve().parent\n",
    "data_folder_path = this_repo / \"data\" / data_collection_folder \n",
    "print(data_folder_path)\n",
    "\n",
    "multipleye = MultipleyeDataCollection.create_from_data_folder(str(data_folder_path), additional_folder= 'pilot_sessions')"
   ],
   "metadata": {
    "collapsed": false,
    "ExecuteTime": {
     "end_time": "2025-03-12T12:46:00.792374500Z",
     "start_time": "2025-03-12T12:46:00.505075300Z"
    }
   },
   "id": "64a152a8493ba313",
   "execution_count": 3
  },
  {
   "cell_type": "code",
   "outputs": [
    {
     "name": "stderr",
     "output_type": "stream",
     "text": [
      "Creating gaze data:   0%|          | 0/1 [00:00<?, ?it/s]\n"
     ]
    }
   ],
   "source": [
    "multipleye.create_gaze_frame(\"016_ET_EE_1_ET1\")"
   ],
   "metadata": {
    "collapsed": false,
    "ExecuteTime": {
     "end_time": "2025-03-12T12:38:12.843716400Z",
     "start_time": "2025-03-12T12:38:12.835996200Z"
    }
   },
   "id": "1142be525a888011",
   "execution_count": 4
  },
  {
   "cell_type": "code",
   "outputs": [],
   "source": [
    "gaze_016 = multipleye.get_gaze_frame(\"016_ET_EE_1_ET1\")"
   ],
   "metadata": {
    "collapsed": false,
    "ExecuteTime": {
     "end_time": "2025-03-12T12:38:13.919397200Z",
     "start_time": "2025-03-12T12:38:12.838661Z"
    }
   },
   "id": "24d86243b89894d2",
   "execution_count": 5
  },
  {
   "cell_type": "code",
   "execution_count": 5,
   "outputs": [],
   "source": [],
   "metadata": {
    "collapsed": false,
    "ExecuteTime": {
     "end_time": "2025-03-12T12:38:13.925624800Z",
     "start_time": "2025-03-12T12:38:13.920546600Z"
    }
   },
   "id": "4cbe0e9e90a8eab8"
  },
  {
   "cell_type": "code",
   "execution_count": 6,
   "outputs": [
    {
     "name": "stderr",
     "output_type": "stream",
     "text": [
      "performing sanity checks:   0%|          | 0/1 [00:00<?, ?it/s]INFO:root:Correct answers for PopSci_MultiplEYE: 4 out of 6 answers\n",
      "INFO:root:Correct answers for Ins_HumanRights: 4 out of 6 answers\n",
      "INFO:root:Correct answers for Ins_LearningMobility: 5 out of 8 answers\n",
      "INFO:root:Correct answers for Lit_Alchemist: 6 out of 8 answers\n",
      "INFO:root:Correct answers for Lit_MagicMountain: 3 out of 6 answers\n",
      "INFO:root:Correct answers for Lit_Solaris: 1 out of 6 answers\n",
      "INFO:root:Correct answers for Lit_BrokenApril: 4 out of 6 answers\n",
      "INFO:root:Correct answers for Arg_PISACowsMilk: 3 out of 6 answers\n",
      "INFO:root:Correct answers for Arg_PISARapaNui: 3 out of 6 answers\n",
      "INFO:root:Correct answers for PopSci_Caveman: 4 out of 6 answers\n",
      "INFO:root:Correct answers for Enc_WikiMoon: 5 out of 8 answers\n",
      "INFO:root:Correct answers for Lit_NorthWind: 6 out of 8 answers\n",
      "INFO:root:Overall correct answers: 48 out of 80 answers 0.60\n",
      "INFO:root:1:  Ins_LearningMobility: 13.11 minutes\n",
      "INFO:root:2:  Lit_Alchemist: 7.58 minutes\n",
      "INFO:root:3:  PopSci_MultiplEYE: 23.53 minutes\n",
      "INFO:root:4:  Ins_HumanRights: 8.28 minutes\n",
      "INFO:root:5: PopSci_Caveman: 7.08 minutes\n",
      "INFO:root:obligatory break: 15.32 minutes\n",
      "INFO:root:6:  Lit_Solaris: 11.14 minutes\n",
      "INFO:root:7:  Lit_BrokenApril: 9.8 minutes\n",
      "INFO:root:8:  Arg_PISACowsMilk: 10.46 minutes\n",
      "INFO:root:9:  Arg_PISARapaNui: 9.22 minutes\n",
      "INFO:root:10:  Lit_MagicMountain: 5.89 minutes\n",
      "INFO:root:optional_break found 8 times\n",
      "INFO:root:optional_break_duration: lasting 8.70 seconds found at 3066718\n",
      "INFO:root:optional_break_duration: lasting 16.32 seconds found at 3478140\n",
      "INFO:root:optional_break_duration: lasting 818.41 seconds found at 4965140\n",
      "INFO:root:optional_break_duration: lasting 1.84 seconds found at 5396529\n",
      "INFO:root:optional_break_duration: lasting 4.75 seconds found at 7430183\n",
      "INFO:root:optional_break_duration: lasting 4.16 seconds found at 7935860\n",
      "INFO:root:optional_break_duration: lasting 6.22 seconds found at 8595728\n",
      "INFO:root:optional_break_duration: lasting 35.30 seconds found at 9205165\n",
      "INFO:root:obligatory_break found 1 times\n",
      "INFO:root:obligatory_break_duration: lasting 776.06 seconds found at 6713707\n",
      "INFO:root:No calibration after validation 3/15 at 3136021.0 with validation score 0.32\n",
      "INFO:root:Calibration after validation at timestamp 3578532.   Next validation, 65.362 seconds later with score 0.21\n",
      "performing sanity checks: 100%|██████████| 1/1 [00:06<00:00,  6.08s/it]\n"
     ]
    }
   ],
   "source": [
    "multipleye.create_sanity_check_report(\"016_ET_EE_1_ET1\",plotting= False)"
   ],
   "metadata": {
    "collapsed": false,
    "ExecuteTime": {
     "end_time": "2025-03-12T12:38:20.038075700Z",
     "start_time": "2025-03-12T12:38:13.922526600Z"
    }
   },
   "id": "290803561b95f88b"
  },
  {
   "cell_type": "code",
   "execution_count": 7,
   "outputs": [
    {
     "name": "stderr",
     "output_type": "stream",
     "text": [
      "Creating gaze data:   0%|          | 0/1 [00:00<?, ?it/s]\n"
     ]
    }
   ],
   "source": [
    "multipleye.create_gaze_frame(\"020_ET_EE_1_ET1\")"
   ],
   "metadata": {
    "collapsed": false,
    "ExecuteTime": {
     "end_time": "2025-03-12T12:38:20.039826600Z",
     "start_time": "2025-03-12T12:38:20.035054900Z"
    }
   },
   "id": "7dfe960495038047"
  },
  {
   "cell_type": "markdown",
   "source": [],
   "metadata": {
    "collapsed": false
   },
   "id": "99489b83f277faff"
  },
  {
   "cell_type": "code",
   "outputs": [
    {
     "name": "stderr",
     "output_type": "stream",
     "text": [
      "performing sanity checks:   0%|          | 0/1 [00:00<?, ?it/s]INFO:root:Correct answers for PopSci_MultiplEYE: 5 out of 6 answers\n",
      "INFO:root:Correct answers for Ins_HumanRights: 4 out of 6 answers\n",
      "INFO:root:Correct answers for Ins_LearningMobility: 3 out of 6 answers\n",
      "INFO:root:Correct answers for Lit_Alchemist: 5 out of 6 answers\n",
      "INFO:root:Correct answers for Lit_MagicMountain: 4 out of 6 answers\n",
      "INFO:root:Correct answers for Lit_Solaris: 5 out of 6 answers\n",
      "INFO:root:Correct answers for Lit_BrokenApril: 4 out of 8 answers\n",
      "INFO:root:Correct answers for Arg_PISACowsMilk: 4 out of 8 answers\n",
      "INFO:root:Correct answers for Arg_PISARapaNui: 5 out of 6 answers\n",
      "INFO:root:Correct answers for PopSci_Caveman: 6 out of 6 answers\n",
      "INFO:root:Overall correct answers: 45 out of 64 answers 0.70\n",
      "INFO:root:1:  Arg_PISACowsMilk: 9.97 minutes\n",
      "INFO:root:2:  Lit_BrokenApril: 11.45 minutes\n",
      "INFO:root:3:  Lit_MagicMountain: 6.02 minutes\n",
      "INFO:root:4:  Arg_PISARapaNui: 8.71 minutes\n",
      "INFO:root:5: Ins_HumanRights: 2.63 minutes\n",
      "INFO:root:obligatory break: 7.65 minutes\n",
      "INFO:root:6:  PopSci_MultiplEYE: 8.55 minutes\n",
      "INFO:root:7:  Lit_Alchemist: 7.4 minutes\n",
      "INFO:root:8:  Ins_LearningMobility: 11.13 minutes\n",
      "INFO:root:9:  Lit_Solaris: 8.82 minutes\n",
      "INFO:root:10:  PopSci_Caveman: 3.78 minutes\n",
      "INFO:root:fixation_trigger:experimenter_calibration_triggered found 5 times\n",
      "INFO:root:fixation_trigger:experimenter_calibration_triggered found at 607146.0\n",
      "INFO:root:fixation_trigger:experimenter_calibration_triggered found at 1184520.0\n",
      "INFO:root:fixation_trigger:experimenter_calibration_triggered found at 2180177.0\n",
      "INFO:root:fixation_trigger:experimenter_calibration_triggered found at 4348864.0\n",
      "INFO:root:fixation_trigger:experimenter_calibration_triggered found at 4967231.0\n",
      "INFO:root:optional_break found 8 times\n",
      "INFO:root:optional_break_duration: lasting 1.92 seconds found at 1031828.0\n",
      "INFO:root:optional_break_duration: lasting 196.54 seconds found at 1588450.0\n",
      "INFO:root:optional_break_duration: lasting 127.60 seconds found at 2058657.0\n",
      "INFO:root:optional_break_duration: lasting 87.34 seconds found at 2568070.0\n",
      "INFO:root:optional_break_duration: lasting 147.19 seconds found at 3708986.0\n",
      "INFO:root:optional_break_duration: lasting 165.48 seconds found at 4084825.0\n",
      "INFO:root:optional_break_duration: lasting 5.41 seconds found at 4648030.0\n",
      "INFO:root:optional_break_duration: lasting 93.84 seconds found at 5319962.0\n",
      "INFO:root:obligatory_break found 1 times\n",
      "INFO:root:obligatory_break_duration: lasting 351.51 seconds found at 3150421.0\n",
      "INFO:root:No calibration after validation 10/17 at 3252361.0 with validation score 0.32\n",
      "performing sanity checks: 100%|██████████| 1/1 [00:02<00:00,  2.84s/it]\n"
     ]
    }
   ],
   "source": [
    "\n",
    "multipleye.create_sanity_check_report(\"005_RU_RU_1_ET1\", plotting= False)"
   ],
   "metadata": {
    "collapsed": false,
    "ExecuteTime": {
     "end_time": "2025-03-12T12:46:10.897333200Z",
     "start_time": "2025-03-12T12:46:08.041747200Z"
    }
   },
   "id": "12ead3036add9fb5",
   "execution_count": 4
  },
  {
   "cell_type": "code",
   "execution_count": null,
   "outputs": [],
   "source": [],
   "metadata": {
    "collapsed": false,
    "ExecuteTime": {
     "end_time": "2025-03-12T12:45:51.087367300Z",
     "start_time": "2025-03-12T12:45:51.086863400Z"
    }
   },
   "id": "7e63e090115eac83"
  },
  {
   "cell_type": "code",
   "execution_count": null,
   "outputs": [],
   "source": [],
   "metadata": {
    "collapsed": false
   },
   "id": "fa8acbedc757a961"
  }
 ],
 "metadata": {
  "kernelspec": {
   "display_name": "Python 3",
   "language": "python",
   "name": "python3"
  },
  "language_info": {
   "codemirror_mode": {
    "name": "ipython",
    "version": 2
   },
   "file_extension": ".py",
   "mimetype": "text/x-python",
   "name": "python",
   "nbconvert_exporter": "python",
   "pygments_lexer": "ipython2",
   "version": "2.7.6"
  }
 },
 "nbformat": 4,
 "nbformat_minor": 5
}
