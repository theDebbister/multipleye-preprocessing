{
 "cells": [
  {
   "cell_type": "markdown",
   "metadata": {},
   "source": [
    "# MultiplEYE preprocessing"
   ]
  },
  {
   "cell_type": "code",
   "execution_count": 1,
   "metadata": {},
   "outputs": [],
   "source": [
    "from pathlib import Path\n",
    "\n",
    "data_dir = Path(\"../data/pilot-hr-1-zh\")\n",
    "stim_dir = Path(\"../data/stimuli_MultiplEYE_HR_CH_Zurich_1_2025\")\n",
    "output_dir = Path(\"output\")\n",
    "output_dir.mkdir(exist_ok=True)"
   ]
  },
  {
   "cell_type": "markdown",
   "metadata": {},
   "source": [
    "## EDF to ASC\n",
    "\n",
    "Use the `edf2asc` binary from the [EyeLink Developers Kit](https://www.sr-research.com/support/thread-13.html) to convert EDF files to ASC files.\n",
    "\n",
    "To discuss:\n",
    "- We probably can't distribute the binary due to licensing issues. (But we might be able to distribute a Docker image?)\n",
    "- There is already an [issue](https://github.com/aeye-lab/pymovements/issues/509) to integrate this into `pymovements`.\n",
    "- The `-input` option is unnecessary, but currently required by `parse_eyelink()` in `pymovements`.\n",
    "- The `-ftime` option would make handling 2kHz ASC files easier, but `pymovements` doesn't support floating point timestamps yet (https://github.com/aeye-lab/pymovements/pull/739)."
   ]
  },
  {
   "cell_type": "code",
   "execution_count": 2,
   "metadata": {},
   "outputs": [
    {
     "name": "stdout",
     "output_type": "stream",
     "text": [
      "\n",
      "EDF2ASC: EyeLink EDF file -> ASCII (text) file translator\n",
      "EDF2ASC version 4.2.762.0 Linux   standalone Jul 20 2023 \n",
      "(c)1995-2023 by SR Research, last modified Jul 20 2023\n",
      "\n",
      "processing file ../data/pilot-hr-1-zh/ch1hr007.edf \n",
      "loadEvents = 1\n",
      "==============Preamble of file ../data/pilot-hr-1-zh/ch1hr007.edf==============\n",
      "| DATE: Wed Jun 19 17:49:30 2024                                              |\n",
      "| TYPE: EDF_FILE BINARY EVENT SAMPLE TAGGED                                   |\n",
      "| VERSION: EYELINK II 1                                                       |\n",
      "| SOURCE: EYELINK CL                                                          |\n",
      "| EYELINK II CL v6.14 Mar  6 2020 (EyeLink Portable Duo)                      |\n",
      "| CAMERA: EyeLink USBCAM Version 1.01                                         |\n",
      "| SERIAL NUMBER: CLU-DBE08                                                    |\n",
      "| CAMERA_CONFIG: DBE08200.SCD                                                 |\n",
      "| RECORDED BY libeyelink.py                                                   |\n",
      "===============================================================================\n",
      "\n",
      "missing sample at 819712.500000 \n",
      "missing sample at 1326461.500000 \n",
      "missing sample at 1391155.500000 \n",
      "missing sample at 1479871.500000 \n",
      "missing sample at 1597151.500000 \n",
      "missing sample at 1696457.500000 \n",
      "missing sample at 1851658.500000 \n",
      "missing sample at 1893137.500000 \n",
      "missing sample at 2159613.500000 \n",
      "missing sample at 2267274.500000 \n",
      "missing sample at 2493244.500000 \n",
      "missing sample at 2519612.500000 \n",
      "missing sample at 2608876.500000 \n",
      "missing sample at 2675320.500000 \n",
      "missing sample at 2689794.500000 \n",
      "missing sample at 2692863.500000 \n",
      "missing sample at 2720722.500000 \n",
      "missing sample at 2822118.500000 \n",
      "missing sample at 3045886.500000 \n",
      "missing sample at 3106620.500000 \n",
      "missing sample at 3188916.500000 \n",
      "missing sample at 3206301.500000 \n",
      "missing sample at 3391546.500000 \n",
      "missing sample at 3420093.500000 \n",
      "missing sample at 3426127.500000 \n",
      "missing sample at 3578011.500000 \n",
      "missing sample at 3602479.500000 \n",
      "missing sample at 3645916.500000 \n",
      "missing sample at 3664998.500000 \n",
      "missing sample at 3683847.500000 \n",
      "missing sample at 3787312.500000 \n",
      "missing sample at 3818034.500000 \n",
      "missing sample at 3859301.500000 \n",
      "missing sample at 3864391.500000 \n",
      "missing sample at 3905822.500000 \n",
      "missing sample at 3981997.500000 \n",
      "Converted successfully: 26935 events, 3220492 samples, 404 blocks.\n"
     ]
    },
    {
     "data": {
      "text/plain": [
       "CompletedProcess(args=['./edf2asc', PosixPath('../data/pilot-hr-1-zh/ch1hr007.edf'), '-input', '-ftime', '-p', PosixPath('output'), '-y'], returncode=255)"
      ]
     },
     "execution_count": 2,
     "metadata": {},
     "output_type": "execute_result"
    }
   ],
   "source": [
    "import subprocess\n",
    "\n",
    "edf = data_dir / \"ch1hr007.edf\"\n",
    "subprocess.run([\"./edf2asc\", edf, \"-input\", \"-ftime\", \"-p\", output_dir, \"-y\"])"
   ]
  },
  {
   "cell_type": "markdown",
   "metadata": {},
   "source": [
    "## ASC to sample-level CSV\n",
    "\n",
    "Convert the ASC files to CSV files (one for each page) where each row is a sample."
   ]
  },
  {
   "cell_type": "markdown",
   "metadata": {},
   "source": [
    "### Parse ASC file"
   ]
  },
  {
   "cell_type": "code",
   "execution_count": 3,
   "metadata": {},
   "outputs": [
    {
     "name": "stderr",
     "output_type": "stream",
     "text": [
      "/home/andreas/work/uzh/multipleye/multipleye-preprocessing/.venv/lib/python3.11/site-packages/tqdm/auto.py:21: TqdmWarning: IProgress not found. Please update jupyter and ipywidgets. See https://ipywidgets.readthedocs.io/en/stable/user_install.html\n",
      "  from .autonotebook import tqdm as notebook_tqdm\n"
     ]
    },
    {
     "data": {
      "text/html": [
       "<div><style>\n",
       ".dataframe > thead > tr,\n",
       ".dataframe > tbody > tr {\n",
       "  text-align: right;\n",
       "  white-space: pre-wrap;\n",
       "}\n",
       "</style>\n",
       "<small>shape: (3_220_492, 7)</small><table border=\"1\" class=\"dataframe\"><thead><tr><th>time</th><th>pupil</th><th>trial</th><th>screen</th><th>activity</th><th>practice</th><th>pixel</th></tr><tr><td>f64</td><td>f64</td><td>str</td><td>str</td><td>str</td><td>bool</td><td>list[f64]</td></tr></thead><tbody><tr><td>709376.0</td><td>206.0</td><td>null</td><td>null</td><td>null</td><td>null</td><td>[102.2, 101.4]</td></tr><tr><td>709376.5</td><td>210.0</td><td>null</td><td>null</td><td>null</td><td>null</td><td>[104.1, 99.8]</td></tr><tr><td>709377.0</td><td>206.0</td><td>null</td><td>null</td><td>null</td><td>null</td><td>[99.1, 106.5]</td></tr><tr><td>709377.5</td><td>204.0</td><td>null</td><td>null</td><td>null</td><td>null</td><td>[85.2, 103.3]</td></tr><tr><td>709378.0</td><td>202.0</td><td>null</td><td>null</td><td>null</td><td>null</td><td>[98.2, 106.7]</td></tr><tr><td>709378.5</td><td>209.0</td><td>null</td><td>null</td><td>null</td><td>null</td><td>[100.2, 91.7]</td></tr><tr><td>709379.0</td><td>203.0</td><td>null</td><td>null</td><td>null</td><td>null</td><td>[97.9, 96.4]</td></tr><tr><td>709379.5</td><td>206.0</td><td>null</td><td>null</td><td>null</td><td>null</td><td>[109.3, 103.4]</td></tr><tr><td>709380.0</td><td>203.0</td><td>null</td><td>null</td><td>null</td><td>null</td><td>[93.6, 105.4]</td></tr><tr><td>709380.5</td><td>204.0</td><td>null</td><td>null</td><td>null</td><td>null</td><td>[94.6, 103.7]</td></tr><tr><td>709381.0</td><td>205.0</td><td>null</td><td>null</td><td>null</td><td>null</td><td>[87.4, 103.6]</td></tr><tr><td>709381.5</td><td>202.0</td><td>null</td><td>null</td><td>null</td><td>null</td><td>[87.5, 114.8]</td></tr><tr><td>&hellip;</td><td>&hellip;</td><td>&hellip;</td><td>&hellip;</td><td>&hellip;</td><td>&hellip;</td><td>&hellip;</td></tr><tr><td>4014267.5</td><td>348.0</td><td>&quot;trial_10&quot;</td><td>&quot;question_6&quot;</td><td>&quot;question&quot;</td><td>false</td><td>[1190.3, 854.7]</td></tr><tr><td>4.014268e6</td><td>339.0</td><td>&quot;trial_10&quot;</td><td>&quot;question_6&quot;</td><td>&quot;question&quot;</td><td>false</td><td>[1193.9, 850.7]</td></tr><tr><td>4014268.5</td><td>343.0</td><td>&quot;trial_10&quot;</td><td>&quot;question_6&quot;</td><td>&quot;question&quot;</td><td>false</td><td>[1188.9, 861.8]</td></tr><tr><td>4.014269e6</td><td>342.0</td><td>&quot;trial_10&quot;</td><td>&quot;question_6&quot;</td><td>&quot;question&quot;</td><td>false</td><td>[1190.1, 848.1]</td></tr><tr><td>4014269.5</td><td>340.0</td><td>&quot;trial_10&quot;</td><td>&quot;question_6&quot;</td><td>&quot;question&quot;</td><td>false</td><td>[1193.6, 850.4]</td></tr><tr><td>4.01427e6</td><td>341.0</td><td>&quot;trial_10&quot;</td><td>&quot;question_6&quot;</td><td>&quot;question&quot;</td><td>false</td><td>[1195.8, 859.0]</td></tr><tr><td>4014270.5</td><td>337.0</td><td>&quot;trial_10&quot;</td><td>&quot;question_6&quot;</td><td>&quot;question&quot;</td><td>false</td><td>[1192.0, 852.7]</td></tr><tr><td>4.014271e6</td><td>345.0</td><td>&quot;trial_10&quot;</td><td>&quot;question_6&quot;</td><td>&quot;question&quot;</td><td>false</td><td>[1192.4, 854.6]</td></tr><tr><td>4014271.5</td><td>342.0</td><td>&quot;trial_10&quot;</td><td>&quot;question_6&quot;</td><td>&quot;question&quot;</td><td>false</td><td>[1193.9, 853.4]</td></tr><tr><td>4.014272e6</td><td>342.0</td><td>&quot;trial_10&quot;</td><td>&quot;question_6&quot;</td><td>&quot;question&quot;</td><td>false</td><td>[1189.7, 856.1]</td></tr><tr><td>4014272.5</td><td>337.0</td><td>&quot;trial_10&quot;</td><td>&quot;question_6&quot;</td><td>&quot;question&quot;</td><td>false</td><td>[1197.2, 850.1]</td></tr><tr><td>4.014273e6</td><td>343.0</td><td>&quot;trial_10&quot;</td><td>&quot;question_6&quot;</td><td>&quot;question&quot;</td><td>false</td><td>[1192.9, 848.7]</td></tr></tbody></table></div>"
      ],
      "text/plain": [
       "shape: (3_220_492, 7)\n",
       "┌────────────┬───────┬──────────┬────────────┬──────────┬──────────┬─────────────────┐\n",
       "│ time       ┆ pupil ┆ trial    ┆ screen     ┆ activity ┆ practice ┆ pixel           │\n",
       "│ ---        ┆ ---   ┆ ---      ┆ ---        ┆ ---      ┆ ---      ┆ ---             │\n",
       "│ f64        ┆ f64   ┆ str      ┆ str        ┆ str      ┆ bool     ┆ list[f64]       │\n",
       "╞════════════╪═══════╪══════════╪════════════╪══════════╪══════════╪═════════════════╡\n",
       "│ 709376.0   ┆ 206.0 ┆ null     ┆ null       ┆ null     ┆ null     ┆ [102.2, 101.4]  │\n",
       "│ 709376.5   ┆ 210.0 ┆ null     ┆ null       ┆ null     ┆ null     ┆ [104.1, 99.8]   │\n",
       "│ 709377.0   ┆ 206.0 ┆ null     ┆ null       ┆ null     ┆ null     ┆ [99.1, 106.5]   │\n",
       "│ 709377.5   ┆ 204.0 ┆ null     ┆ null       ┆ null     ┆ null     ┆ [85.2, 103.3]   │\n",
       "│ …          ┆ …     ┆ …        ┆ …          ┆ …        ┆ …        ┆ …               │\n",
       "│ 4014271.5  ┆ 342.0 ┆ trial_10 ┆ question_6 ┆ question ┆ false    ┆ [1193.9, 853.4] │\n",
       "│ 4.014272e6 ┆ 342.0 ┆ trial_10 ┆ question_6 ┆ question ┆ false    ┆ [1189.7, 856.1] │\n",
       "│ 4014272.5  ┆ 337.0 ┆ trial_10 ┆ question_6 ┆ question ┆ false    ┆ [1197.2, 850.1] │\n",
       "│ 4.014273e6 ┆ 343.0 ┆ trial_10 ┆ question_6 ┆ question ┆ false    ┆ [1192.9, 848.7] │\n",
       "└────────────┴───────┴──────────┴────────────┴──────────┴──────────┴─────────────────┘"
      ]
     },
     "execution_count": 3,
     "metadata": {},
     "output_type": "execute_result"
    }
   ],
   "source": [
    "import csv\n",
    "\n",
    "import polars as pl\n",
    "import pymovements as pm\n",
    "\n",
    "asc = output_dir / \"ch1hr007.asc\"\n",
    "\n",
    "data = pm.gaze.from_asc(\n",
    "    asc,\n",
    "    patterns=[\n",
    "        r\"start_recording_(?P<trial>(?:PRACTICE_)?trial_\\d+)_(?P<screen>.+)\",\n",
    "        {\"pattern\": r\"stop_recording_\", \"column\": \"trial\", \"value\": None},\n",
    "        {\"pattern\": r\"stop_recording_\", \"column\": \"screen\", \"value\": None},\n",
    "        {\n",
    "            \"pattern\": r\"start_recording_(?:PRACTICE_)?trial_\\d+_page_\\d+\",\n",
    "            \"column\": \"activity\",\n",
    "            \"value\": \"reading\",\n",
    "        },\n",
    "        {\n",
    "            \"pattern\": r\"start_recording_(?:PRACTICE_)?trial_\\d+_question_\\d+\",\n",
    "            \"column\": \"activity\",\n",
    "            \"value\": \"question\",\n",
    "        },\n",
    "        {\n",
    "            \"pattern\": r\"start_recording_(?:PRACTICE_)?trial_\\d+_(familiarity_rating_screen_\\d+|subject_difficulty_screen)\",\n",
    "            \"column\": \"activity\",\n",
    "            \"value\": \"rating\",\n",
    "        },\n",
    "        {\"pattern\": r\"stop_recording_\", \"column\": \"activity\", \"value\": None},\n",
    "        {\n",
    "            \"pattern\": r\"start_recording_PRACTICE_trial_\",\n",
    "            \"column\": \"practice\",\n",
    "            \"value\": True,\n",
    "        },\n",
    "        {\n",
    "            \"pattern\": r\"start_recording_trial_\",\n",
    "            \"column\": \"practice\",\n",
    "            \"value\": False,\n",
    "        },\n",
    "        {\"pattern\": r\"stop_recording_\", \"column\": \"practice\", \"value\": None},\n",
    "    ],\n",
    ")\n",
    "data.frame"
   ]
  },
  {
   "cell_type": "markdown",
   "metadata": {},
   "source": [
    "### Map trial numbers to stimulus IDs"
   ]
  },
  {
   "cell_type": "code",
   "execution_count": 4,
   "metadata": {},
   "outputs": [
    {
     "data": {
      "text/html": [
       "<div><style>\n",
       ".dataframe > thead > tr,\n",
       ".dataframe > tbody > tr {\n",
       "  text-align: right;\n",
       "  white-space: pre-wrap;\n",
       "}\n",
       "</style>\n",
       "<small>shape: (3_220_492, 8)</small><table border=\"1\" class=\"dataframe\"><thead><tr><th>time</th><th>pupil</th><th>trial</th><th>screen</th><th>activity</th><th>practice</th><th>pixel</th><th>stimulus_id</th></tr><tr><td>f64</td><td>f64</td><td>str</td><td>str</td><td>str</td><td>bool</td><td>list[f64]</td><td>str</td></tr></thead><tbody><tr><td>709376.0</td><td>206.0</td><td>null</td><td>null</td><td>null</td><td>null</td><td>[102.2, 101.4]</td><td>null</td></tr><tr><td>709376.5</td><td>210.0</td><td>null</td><td>null</td><td>null</td><td>null</td><td>[104.1, 99.8]</td><td>null</td></tr><tr><td>709377.0</td><td>206.0</td><td>null</td><td>null</td><td>null</td><td>null</td><td>[99.1, 106.5]</td><td>null</td></tr><tr><td>709377.5</td><td>204.0</td><td>null</td><td>null</td><td>null</td><td>null</td><td>[85.2, 103.3]</td><td>null</td></tr><tr><td>709378.0</td><td>202.0</td><td>null</td><td>null</td><td>null</td><td>null</td><td>[98.2, 106.7]</td><td>null</td></tr><tr><td>709378.5</td><td>209.0</td><td>null</td><td>null</td><td>null</td><td>null</td><td>[100.2, 91.7]</td><td>null</td></tr><tr><td>709379.0</td><td>203.0</td><td>null</td><td>null</td><td>null</td><td>null</td><td>[97.9, 96.4]</td><td>null</td></tr><tr><td>709379.5</td><td>206.0</td><td>null</td><td>null</td><td>null</td><td>null</td><td>[109.3, 103.4]</td><td>null</td></tr><tr><td>709380.0</td><td>203.0</td><td>null</td><td>null</td><td>null</td><td>null</td><td>[93.6, 105.4]</td><td>null</td></tr><tr><td>709380.5</td><td>204.0</td><td>null</td><td>null</td><td>null</td><td>null</td><td>[94.6, 103.7]</td><td>null</td></tr><tr><td>709381.0</td><td>205.0</td><td>null</td><td>null</td><td>null</td><td>null</td><td>[87.4, 103.6]</td><td>null</td></tr><tr><td>709381.5</td><td>202.0</td><td>null</td><td>null</td><td>null</td><td>null</td><td>[87.5, 114.8]</td><td>null</td></tr><tr><td>&hellip;</td><td>&hellip;</td><td>&hellip;</td><td>&hellip;</td><td>&hellip;</td><td>&hellip;</td><td>&hellip;</td><td>&hellip;</td></tr><tr><td>4014267.5</td><td>348.0</td><td>&quot;trial_10&quot;</td><td>&quot;question_6&quot;</td><td>&quot;question&quot;</td><td>false</td><td>[1190.3, 854.7]</td><td>&quot;4&quot;</td></tr><tr><td>4.014268e6</td><td>339.0</td><td>&quot;trial_10&quot;</td><td>&quot;question_6&quot;</td><td>&quot;question&quot;</td><td>false</td><td>[1193.9, 850.7]</td><td>&quot;4&quot;</td></tr><tr><td>4014268.5</td><td>343.0</td><td>&quot;trial_10&quot;</td><td>&quot;question_6&quot;</td><td>&quot;question&quot;</td><td>false</td><td>[1188.9, 861.8]</td><td>&quot;4&quot;</td></tr><tr><td>4.014269e6</td><td>342.0</td><td>&quot;trial_10&quot;</td><td>&quot;question_6&quot;</td><td>&quot;question&quot;</td><td>false</td><td>[1190.1, 848.1]</td><td>&quot;4&quot;</td></tr><tr><td>4014269.5</td><td>340.0</td><td>&quot;trial_10&quot;</td><td>&quot;question_6&quot;</td><td>&quot;question&quot;</td><td>false</td><td>[1193.6, 850.4]</td><td>&quot;4&quot;</td></tr><tr><td>4.01427e6</td><td>341.0</td><td>&quot;trial_10&quot;</td><td>&quot;question_6&quot;</td><td>&quot;question&quot;</td><td>false</td><td>[1195.8, 859.0]</td><td>&quot;4&quot;</td></tr><tr><td>4014270.5</td><td>337.0</td><td>&quot;trial_10&quot;</td><td>&quot;question_6&quot;</td><td>&quot;question&quot;</td><td>false</td><td>[1192.0, 852.7]</td><td>&quot;4&quot;</td></tr><tr><td>4.014271e6</td><td>345.0</td><td>&quot;trial_10&quot;</td><td>&quot;question_6&quot;</td><td>&quot;question&quot;</td><td>false</td><td>[1192.4, 854.6]</td><td>&quot;4&quot;</td></tr><tr><td>4014271.5</td><td>342.0</td><td>&quot;trial_10&quot;</td><td>&quot;question_6&quot;</td><td>&quot;question&quot;</td><td>false</td><td>[1193.9, 853.4]</td><td>&quot;4&quot;</td></tr><tr><td>4.014272e6</td><td>342.0</td><td>&quot;trial_10&quot;</td><td>&quot;question_6&quot;</td><td>&quot;question&quot;</td><td>false</td><td>[1189.7, 856.1]</td><td>&quot;4&quot;</td></tr><tr><td>4014272.5</td><td>337.0</td><td>&quot;trial_10&quot;</td><td>&quot;question_6&quot;</td><td>&quot;question&quot;</td><td>false</td><td>[1197.2, 850.1]</td><td>&quot;4&quot;</td></tr><tr><td>4.014273e6</td><td>343.0</td><td>&quot;trial_10&quot;</td><td>&quot;question_6&quot;</td><td>&quot;question&quot;</td><td>false</td><td>[1192.9, 848.7]</td><td>&quot;4&quot;</td></tr></tbody></table></div>"
      ],
      "text/plain": [
       "shape: (3_220_492, 8)\n",
       "┌────────────┬───────┬──────────┬────────────┬──────────┬──────────┬─────────────────┬─────────────┐\n",
       "│ time       ┆ pupil ┆ trial    ┆ screen     ┆ activity ┆ practice ┆ pixel           ┆ stimulus_id │\n",
       "│ ---        ┆ ---   ┆ ---      ┆ ---        ┆ ---      ┆ ---      ┆ ---             ┆ ---         │\n",
       "│ f64        ┆ f64   ┆ str      ┆ str        ┆ str      ┆ bool     ┆ list[f64]       ┆ str         │\n",
       "╞════════════╪═══════╪══════════╪════════════╪══════════╪══════════╪═════════════════╪═════════════╡\n",
       "│ 709376.0   ┆ 206.0 ┆ null     ┆ null       ┆ null     ┆ null     ┆ [102.2, 101.4]  ┆ null        │\n",
       "│ 709376.5   ┆ 210.0 ┆ null     ┆ null       ┆ null     ┆ null     ┆ [104.1, 99.8]   ┆ null        │\n",
       "│ 709377.0   ┆ 206.0 ┆ null     ┆ null       ┆ null     ┆ null     ┆ [99.1, 106.5]   ┆ null        │\n",
       "│ 709377.5   ┆ 204.0 ┆ null     ┆ null       ┆ null     ┆ null     ┆ [85.2, 103.3]   ┆ null        │\n",
       "│ …          ┆ …     ┆ …        ┆ …          ┆ …        ┆ …        ┆ …               ┆ …           │\n",
       "│ 4014271.5  ┆ 342.0 ┆ trial_10 ┆ question_6 ┆ question ┆ false    ┆ [1193.9, 853.4] ┆ 4           │\n",
       "│ 4.014272e6 ┆ 342.0 ┆ trial_10 ┆ question_6 ┆ question ┆ false    ┆ [1189.7, 856.1] ┆ 4           │\n",
       "│ 4014272.5  ┆ 337.0 ┆ trial_10 ┆ question_6 ┆ question ┆ false    ┆ [1197.2, 850.1] ┆ 4           │\n",
       "│ 4.014273e6 ┆ 343.0 ┆ trial_10 ┆ question_6 ┆ question ┆ false    ┆ [1192.9, 848.7] ┆ 4           │\n",
       "└────────────┴───────┴──────────┴────────────┴──────────┴──────────┴─────────────────┴─────────────┘"
      ]
     },
     "execution_count": 4,
     "metadata": {},
     "output_type": "execute_result"
    }
   ],
   "source": [
    "stimulus_ids = {}\n",
    "with open(data_dir / \"logfiles\" / \"completed_stimuli.csv\") as f:\n",
    "    reader = csv.DictReader(f)\n",
    "    for i, row in enumerate(reader):\n",
    "        stimulus_ids[f\"trial_{i + 1}\"] = row[\"stimulus_id\"]\n",
    "\n",
    "df = data.frame.with_columns(\n",
    "    pl.col(\"trial\").replace(stimulus_ids).alias(\"stimulus_id\")\n",
    ")\n",
    "df"
   ]
  },
  {
   "cell_type": "markdown",
   "metadata": {},
   "source": [
    "### Write separate CSVs for each page"
   ]
  },
  {
   "cell_type": "markdown",
   "metadata": {},
   "source": [
    "Convert [x, y] pixel column to separate pixel_x and piyel_y columns. This is necessary because polars does not support nested values when exporting CSV."
   ]
  },
  {
   "cell_type": "code",
   "execution_count": 5,
   "metadata": {},
   "outputs": [
    {
     "data": {
      "text/html": [
       "<div><style>\n",
       ".dataframe > thead > tr,\n",
       ".dataframe > tbody > tr {\n",
       "  text-align: right;\n",
       "  white-space: pre-wrap;\n",
       "}\n",
       "</style>\n",
       "<small>shape: (3_220_492, 9)</small><table border=\"1\" class=\"dataframe\"><thead><tr><th>time</th><th>pupil</th><th>trial</th><th>screen</th><th>activity</th><th>practice</th><th>stimulus_id</th><th>pixel_x</th><th>pixel_y</th></tr><tr><td>f64</td><td>f64</td><td>str</td><td>str</td><td>str</td><td>bool</td><td>str</td><td>f64</td><td>f64</td></tr></thead><tbody><tr><td>709376.0</td><td>206.0</td><td>null</td><td>null</td><td>null</td><td>null</td><td>null</td><td>102.2</td><td>101.4</td></tr><tr><td>709376.5</td><td>210.0</td><td>null</td><td>null</td><td>null</td><td>null</td><td>null</td><td>104.1</td><td>99.8</td></tr><tr><td>709377.0</td><td>206.0</td><td>null</td><td>null</td><td>null</td><td>null</td><td>null</td><td>99.1</td><td>106.5</td></tr><tr><td>709377.5</td><td>204.0</td><td>null</td><td>null</td><td>null</td><td>null</td><td>null</td><td>85.2</td><td>103.3</td></tr><tr><td>709378.0</td><td>202.0</td><td>null</td><td>null</td><td>null</td><td>null</td><td>null</td><td>98.2</td><td>106.7</td></tr><tr><td>709378.5</td><td>209.0</td><td>null</td><td>null</td><td>null</td><td>null</td><td>null</td><td>100.2</td><td>91.7</td></tr><tr><td>709379.0</td><td>203.0</td><td>null</td><td>null</td><td>null</td><td>null</td><td>null</td><td>97.9</td><td>96.4</td></tr><tr><td>709379.5</td><td>206.0</td><td>null</td><td>null</td><td>null</td><td>null</td><td>null</td><td>109.3</td><td>103.4</td></tr><tr><td>709380.0</td><td>203.0</td><td>null</td><td>null</td><td>null</td><td>null</td><td>null</td><td>93.6</td><td>105.4</td></tr><tr><td>709380.5</td><td>204.0</td><td>null</td><td>null</td><td>null</td><td>null</td><td>null</td><td>94.6</td><td>103.7</td></tr><tr><td>709381.0</td><td>205.0</td><td>null</td><td>null</td><td>null</td><td>null</td><td>null</td><td>87.4</td><td>103.6</td></tr><tr><td>709381.5</td><td>202.0</td><td>null</td><td>null</td><td>null</td><td>null</td><td>null</td><td>87.5</td><td>114.8</td></tr><tr><td>&hellip;</td><td>&hellip;</td><td>&hellip;</td><td>&hellip;</td><td>&hellip;</td><td>&hellip;</td><td>&hellip;</td><td>&hellip;</td><td>&hellip;</td></tr><tr><td>4014267.5</td><td>348.0</td><td>&quot;trial_10&quot;</td><td>&quot;question_6&quot;</td><td>&quot;question&quot;</td><td>false</td><td>&quot;4&quot;</td><td>1190.3</td><td>854.7</td></tr><tr><td>4.014268e6</td><td>339.0</td><td>&quot;trial_10&quot;</td><td>&quot;question_6&quot;</td><td>&quot;question&quot;</td><td>false</td><td>&quot;4&quot;</td><td>1193.9</td><td>850.7</td></tr><tr><td>4014268.5</td><td>343.0</td><td>&quot;trial_10&quot;</td><td>&quot;question_6&quot;</td><td>&quot;question&quot;</td><td>false</td><td>&quot;4&quot;</td><td>1188.9</td><td>861.8</td></tr><tr><td>4.014269e6</td><td>342.0</td><td>&quot;trial_10&quot;</td><td>&quot;question_6&quot;</td><td>&quot;question&quot;</td><td>false</td><td>&quot;4&quot;</td><td>1190.1</td><td>848.1</td></tr><tr><td>4014269.5</td><td>340.0</td><td>&quot;trial_10&quot;</td><td>&quot;question_6&quot;</td><td>&quot;question&quot;</td><td>false</td><td>&quot;4&quot;</td><td>1193.6</td><td>850.4</td></tr><tr><td>4.01427e6</td><td>341.0</td><td>&quot;trial_10&quot;</td><td>&quot;question_6&quot;</td><td>&quot;question&quot;</td><td>false</td><td>&quot;4&quot;</td><td>1195.8</td><td>859.0</td></tr><tr><td>4014270.5</td><td>337.0</td><td>&quot;trial_10&quot;</td><td>&quot;question_6&quot;</td><td>&quot;question&quot;</td><td>false</td><td>&quot;4&quot;</td><td>1192.0</td><td>852.7</td></tr><tr><td>4.014271e6</td><td>345.0</td><td>&quot;trial_10&quot;</td><td>&quot;question_6&quot;</td><td>&quot;question&quot;</td><td>false</td><td>&quot;4&quot;</td><td>1192.4</td><td>854.6</td></tr><tr><td>4014271.5</td><td>342.0</td><td>&quot;trial_10&quot;</td><td>&quot;question_6&quot;</td><td>&quot;question&quot;</td><td>false</td><td>&quot;4&quot;</td><td>1193.9</td><td>853.4</td></tr><tr><td>4.014272e6</td><td>342.0</td><td>&quot;trial_10&quot;</td><td>&quot;question_6&quot;</td><td>&quot;question&quot;</td><td>false</td><td>&quot;4&quot;</td><td>1189.7</td><td>856.1</td></tr><tr><td>4014272.5</td><td>337.0</td><td>&quot;trial_10&quot;</td><td>&quot;question_6&quot;</td><td>&quot;question&quot;</td><td>false</td><td>&quot;4&quot;</td><td>1197.2</td><td>850.1</td></tr><tr><td>4.014273e6</td><td>343.0</td><td>&quot;trial_10&quot;</td><td>&quot;question_6&quot;</td><td>&quot;question&quot;</td><td>false</td><td>&quot;4&quot;</td><td>1192.9</td><td>848.7</td></tr></tbody></table></div>"
      ],
      "text/plain": [
       "shape: (3_220_492, 9)\n",
       "┌────────────┬───────┬──────────┬────────────┬───┬──────────┬─────────────┬─────────┬─────────┐\n",
       "│ time       ┆ pupil ┆ trial    ┆ screen     ┆ … ┆ practice ┆ stimulus_id ┆ pixel_x ┆ pixel_y │\n",
       "│ ---        ┆ ---   ┆ ---      ┆ ---        ┆   ┆ ---      ┆ ---         ┆ ---     ┆ ---     │\n",
       "│ f64        ┆ f64   ┆ str      ┆ str        ┆   ┆ bool     ┆ str         ┆ f64     ┆ f64     │\n",
       "╞════════════╪═══════╪══════════╪════════════╪═══╪══════════╪═════════════╪═════════╪═════════╡\n",
       "│ 709376.0   ┆ 206.0 ┆ null     ┆ null       ┆ … ┆ null     ┆ null        ┆ 102.2   ┆ 101.4   │\n",
       "│ 709376.5   ┆ 210.0 ┆ null     ┆ null       ┆ … ┆ null     ┆ null        ┆ 104.1   ┆ 99.8    │\n",
       "│ 709377.0   ┆ 206.0 ┆ null     ┆ null       ┆ … ┆ null     ┆ null        ┆ 99.1    ┆ 106.5   │\n",
       "│ 709377.5   ┆ 204.0 ┆ null     ┆ null       ┆ … ┆ null     ┆ null        ┆ 85.2    ┆ 103.3   │\n",
       "│ …          ┆ …     ┆ …        ┆ …          ┆ … ┆ …        ┆ …           ┆ …       ┆ …       │\n",
       "│ 4014271.5  ┆ 342.0 ┆ trial_10 ┆ question_6 ┆ … ┆ false    ┆ 4           ┆ 1193.9  ┆ 853.4   │\n",
       "│ 4.014272e6 ┆ 342.0 ┆ trial_10 ┆ question_6 ┆ … ┆ false    ┆ 4           ┆ 1189.7  ┆ 856.1   │\n",
       "│ 4014272.5  ┆ 337.0 ┆ trial_10 ┆ question_6 ┆ … ┆ false    ┆ 4           ┆ 1197.2  ┆ 850.1   │\n",
       "│ 4.014273e6 ┆ 343.0 ┆ trial_10 ┆ question_6 ┆ … ┆ false    ┆ 4           ┆ 1192.9  ┆ 848.7   │\n",
       "└────────────┴───────┴──────────┴────────────┴───┴──────────┴─────────────┴─────────┴─────────┘"
      ]
     },
     "execution_count": 5,
     "metadata": {},
     "output_type": "execute_result"
    }
   ],
   "source": [
    "df = df.select(\n",
    "    [\n",
    "        pl.all().exclude(\"pixel\"),\n",
    "        pl.col(\"pixel\").list.get(0).alias(\"pixel_x\"),\n",
    "        pl.col(\"pixel\").list.get(1).alias(\"pixel_y\"),\n",
    "    ]\n",
    ")\n",
    "df"
   ]
  },
  {
   "cell_type": "markdown",
   "metadata": {},
   "source": [
    "Split data into CSV files."
   ]
  },
  {
   "cell_type": "code",
   "execution_count": 6,
   "metadata": {},
   "outputs": [],
   "source": [
    "raw_dir = output_dir / \"raw\"\n",
    "raw_dir.mkdir(exist_ok=True, parents=True)\n",
    "\n",
    "stimulus_practice = df[[\"stimulus_id\", \"practice\"]].unique()\n",
    "for stimulus_id, practice in stimulus_practice.iter_rows():\n",
    "    if stimulus_id is not None:\n",
    "        screen_df = df.filter((pl.col(\"stimulus_id\") == stimulus_id))\n",
    "        screen_df = screen_df.select([\n",
    "            pl.col(\"time\"),\n",
    "            pl.col(\"screen\"),\n",
    "            pl.col(\"pixel_x\"),\n",
    "            pl.col(\"pixel_y\"),\n",
    "            pl.col(\"pupil\"),\n",
    "        ])\n",
    "        if practice:\n",
    "            screen_df.write_csv(raw_dir / f\"007__{stimulus_id}.csv\")\n",
    "        else:\n",
    "            screen_df.write_csv(raw_dir / f\"007__stimulus_{stimulus_id}.csv\")"
   ]
  },
  {
   "cell_type": "markdown",
   "metadata": {},
   "source": [
    "## ⬇️ Everything from this point on would be part of the published preprocessing pipeline ⬇️"
   ]
  },
  {
   "cell_type": "markdown",
   "metadata": {},
   "source": [
    "## Dataset definition"
   ]
  },
  {
   "cell_type": "code",
   "execution_count": 7,
   "metadata": {},
   "outputs": [
    {
     "name": "stdout",
     "output_type": "stream",
     "text": [
      "Multipleye(name='Multipleye', mirrors=(), resources=(), experiment=<pymovements.gaze.experiment.Experiment object at 0x7fbb790d2b50>, filename_format='{subject_id:d}__{stimulus_id}.csv', filename_format_dtypes={}, custom_read_kwargs={}, column_map={}, trial_columns=['stimulus_id', 'screen'], time_column='time', time_unit='ms', pixel_columns=['pixel_x', 'pixel_y'], position_columns=None, velocity_columns=None, acceleration_columns=None, distance_column=None)\n",
      "{subject_id:d}__{stimulus_id}.csv\n",
      "(?P<subject_id>[0-9]+)__(?P<stimulus_id>.+).csv\n",
      "re.compile('(?P<subject_id>[0-9]+)__(?P<stimulus_id>.+).csv')\n",
      "(?P<subject_id>[0-9]+)__(?P<stimulus_id>.+).csv\n",
      "[{'subject_id': '007', 'stimulus_id': 'PRACTICE_trial_1', 'filepath': '007__PRACTICE_trial_1.csv'}, {'subject_id': '007', 'stimulus_id': 'PRACTICE_trial_2', 'filepath': '007__PRACTICE_trial_2.csv'}, {'subject_id': '007', 'stimulus_id': 'stimulus_1', 'filepath': '007__stimulus_1.csv'}, {'subject_id': '007', 'stimulus_id': 'stimulus_10', 'filepath': '007__stimulus_10.csv'}, {'subject_id': '007', 'stimulus_id': 'stimulus_11', 'filepath': '007__stimulus_11.csv'}, {'subject_id': '007', 'stimulus_id': 'stimulus_13', 'filepath': '007__stimulus_13.csv'}, {'subject_id': '007', 'stimulus_id': 'stimulus_2', 'filepath': '007__stimulus_2.csv'}, {'subject_id': '007', 'stimulus_id': 'stimulus_3', 'filepath': '007__stimulus_3.csv'}, {'subject_id': '007', 'stimulus_id': 'stimulus_4', 'filepath': '007__stimulus_4.csv'}, {'subject_id': '007', 'stimulus_id': 'stimulus_6', 'filepath': '007__stimulus_6.csv'}, {'subject_id': '007', 'stimulus_id': 'stimulus_7', 'filepath': '007__stimulus_7.csv'}, {'subject_id': '007', 'stimulus_id': 'stimulus_9', 'filepath': '007__stimulus_9.csv'}]\n"
     ]
    },
    {
     "name": "stderr",
     "output_type": "stream",
     "text": [
      "100%|██████████| 12/12 [00:01<00:00,  6.60it/s]\n"
     ]
    },
    {
     "data": {
      "text/plain": [
       "<pymovements.dataset.dataset.Dataset at 0x7fbbc1903510>"
      ]
     },
     "execution_count": 7,
     "metadata": {},
     "output_type": "execute_result"
    }
   ],
   "source": [
    "from dataclasses import dataclass, field\n",
    "import pymovements as pm\n",
    "\n",
    "\n",
    "@dataclass\n",
    "class Multipleye(pm.DatasetDefinition):\n",
    "    name: str = \"Multipleye\"\n",
    "\n",
    "    # TODO: Read this from a metadata file\n",
    "    experiment: pm.Experiment = pm.Experiment(\n",
    "        sampling_rate=2000,\n",
    "        screen_width_px=1275,\n",
    "        screen_height_px=916,\n",
    "        screen_width_cm=37,\n",
    "        screen_height_cm=28,\n",
    "        distance_cm=60,\n",
    "    )\n",
    "\n",
    "    filename_format: str = r\"{subject_id:d}__{stimulus_id}.csv\"\n",
    "\n",
    "    filename_format_dtypes = {\n",
    "        \"subject_id\": int,\n",
    "        \"stimulus_id\": str,\n",
    "        \"screen\": str,\n",
    "    }\n",
    "\n",
    "    trial_columns: list[str] = field(default_factory=lambda: [\"stimulus_id\", \"screen\"])\n",
    "\n",
    "    time_column: str = \"time\"\n",
    "\n",
    "    time_unit: str = \"ms\"\n",
    "\n",
    "    pixel_columns: list[str] = field(default_factory=lambda: [\"pixel_x\", \"pixel_y\"])\n",
    "\n",
    "\n",
    "dataset = pm.Dataset(Multipleye, \"output\")\n",
    "dataset.load()"
   ]
  },
  {
   "cell_type": "code",
   "execution_count": 8,
   "metadata": {},
   "outputs": [
    {
     "data": {
      "text/plain": [
       "[Experiment(sampling_rate=2000, screen=Screen(width_px=1275, height_px=916, width_cm=37, height_cm=28, distance_cm=60, origin=upper left), eyetracker=None)\n",
       " shape: (99_803, 6)\n",
       " ┌──────────┬────────────┬───────┬────────────┬──────────────────┬───────────────────┐\n",
       " │ time     ┆ screen     ┆ pupil ┆ subject_id ┆ stimulus_id      ┆ pixel             │\n",
       " │ ---      ┆ ---        ┆ ---   ┆ ---        ┆ ---              ┆ ---               │\n",
       " │ f64      ┆ str        ┆ f64   ┆ str        ┆ str              ┆ list[str]         │\n",
       " ╞══════════╪════════════╪═══════╪════════════╪══════════════════╪═══════════════════╡\n",
       " │ 715945.0 ┆ page_1     ┆ 0.0   ┆ 007        ┆ PRACTICE_trial_1 ┆ [null, null]      │\n",
       " │ 715945.5 ┆ page_1     ┆ 0.0   ┆ 007        ┆ PRACTICE_trial_1 ┆ [null, null]      │\n",
       " │ 715946.0 ┆ page_1     ┆ 0.0   ┆ 007        ┆ PRACTICE_trial_1 ┆ [null, null]      │\n",
       " │ 715946.5 ┆ page_1     ┆ 0.0   ┆ 007        ┆ PRACTICE_trial_1 ┆ [null, null]      │\n",
       " │ …        ┆ …          ┆ …     ┆ …          ┆ …                ┆ …                 │\n",
       " │ 824418.5 ┆ question_2 ┆ 242.0 ┆ 007        ┆ PRACTICE_trial_1 ┆ [\"217.6\", \"66.6\"] │\n",
       " │ 824419.0 ┆ question_2 ┆ 243.0 ┆ 007        ┆ PRACTICE_trial_1 ┆ [\"210.0\", \"64.8\"] │\n",
       " │ 824419.5 ┆ question_2 ┆ 236.0 ┆ 007        ┆ PRACTICE_trial_1 ┆ [\"215.6\", \"58.3\"] │\n",
       " │ 824420.0 ┆ question_2 ┆ 245.0 ┆ 007        ┆ PRACTICE_trial_1 ┆ [\"224.5\", \"66.2\"] │\n",
       " └──────────┴────────────┴───────┴────────────┴──────────────────┴───────────────────┘,\n",
       " Experiment(sampling_rate=2000, screen=Screen(width_px=1275, height_px=916, width_cm=37, height_cm=28, distance_cm=60, origin=upper left), eyetracker=None)\n",
       " shape: (71_402, 6)\n",
       " ┌──────────┬────────────┬───────┬────────────┬──────────────────┬────────────────┐\n",
       " │ time     ┆ screen     ┆ pupil ┆ subject_id ┆ stimulus_id      ┆ pixel          │\n",
       " │ ---      ┆ ---        ┆ ---   ┆ ---        ┆ ---              ┆ ---            │\n",
       " │ f64      ┆ str        ┆ f64   ┆ str        ┆ str              ┆ list[f64]      │\n",
       " ╞══════════╪════════════╪═══════╪════════════╪══════════════════╪════════════════╡\n",
       " │ 886890.0 ┆ page_1     ┆ 258.0 ┆ 007        ┆ PRACTICE_trial_2 ┆ [55.4, 94.5]   │\n",
       " │ 886890.5 ┆ page_1     ┆ 248.0 ┆ 007        ┆ PRACTICE_trial_2 ┆ [59.5, 96.5]   │\n",
       " │ 886891.0 ┆ page_1     ┆ 255.0 ┆ 007        ┆ PRACTICE_trial_2 ┆ [55.0, 79.3]   │\n",
       " │ 886891.5 ┆ page_1     ┆ 252.0 ┆ 007        ┆ PRACTICE_trial_2 ┆ [67.2, 96.3]   │\n",
       " │ …        ┆ …          ┆ …     ┆ …          ┆ …                ┆ …              │\n",
       " │ 957623.5 ┆ question_2 ┆ 265.0 ┆ 007        ┆ PRACTICE_trial_2 ┆ [230.0, 232.8] │\n",
       " │ 957624.0 ┆ question_2 ┆ 251.0 ┆ 007        ┆ PRACTICE_trial_2 ┆ [234.9, 231.9] │\n",
       " │ 957624.5 ┆ question_2 ┆ 263.0 ┆ 007        ┆ PRACTICE_trial_2 ┆ [233.2, 249.8] │\n",
       " │ 957625.0 ┆ question_2 ┆ 267.0 ┆ 007        ┆ PRACTICE_trial_2 ┆ [245.7, 227.6] │\n",
       " └──────────┴────────────┴───────┴────────────┴──────────────────┴────────────────┘,\n",
       " Experiment(sampling_rate=2000, screen=Screen(width_px=1275, height_px=916, width_cm=37, height_cm=28, distance_cm=60, origin=upper left), eyetracker=None)\n",
       " shape: (106_568, 6)\n",
       " ┌────────────┬────────────┬───────┬────────────┬─────────────┬─────────────────┐\n",
       " │ time       ┆ screen     ┆ pupil ┆ subject_id ┆ stimulus_id ┆ pixel           │\n",
       " │ ---        ┆ ---        ┆ ---   ┆ ---        ┆ ---         ┆ ---             │\n",
       " │ f64        ┆ str        ┆ f64   ┆ str        ┆ str         ┆ list[f64]       │\n",
       " ╞════════════╪════════════╪═══════╪════════════╪═════════════╪═════════════════╡\n",
       " │ 3.180238e6 ┆ page_1     ┆ 352.0 ┆ 007        ┆ stimulus_1  ┆ [74.6, 106.5]   │\n",
       " │ 3180238.5  ┆ page_1     ┆ 330.0 ┆ 007        ┆ stimulus_1  ┆ [75.7, 106.1]   │\n",
       " │ 3.180239e6 ┆ page_1     ┆ 331.0 ┆ 007        ┆ stimulus_1  ┆ [74.1, 105.0]   │\n",
       " │ 3180239.5  ┆ page_1     ┆ 335.0 ┆ 007        ┆ stimulus_1  ┆ [77.0, 102.1]   │\n",
       " │ …          ┆ …          ┆ …     ┆ …          ┆ …           ┆ …               │\n",
       " │ 3326255.5  ┆ question_6 ┆ 300.0 ┆ 007        ┆ stimulus_1  ┆ [1195.5, 861.3] │\n",
       " │ 3.326256e6 ┆ question_6 ┆ 299.0 ┆ 007        ┆ stimulus_1  ┆ [1196.2, 863.6] │\n",
       " │ 3326256.5  ┆ question_6 ┆ 301.0 ┆ 007        ┆ stimulus_1  ┆ [1189.6, 861.3] │\n",
       " │ 3.326257e6 ┆ question_6 ┆ 294.0 ┆ 007        ┆ stimulus_1  ┆ [1202.1, 854.7] │\n",
       " └────────────┴────────────┴───────┴────────────┴─────────────┴─────────────────┘,\n",
       " Experiment(sampling_rate=2000, screen=Screen(width_px=1275, height_px=916, width_cm=37, height_cm=28, distance_cm=60, origin=upper left), eyetracker=None)\n",
       " shape: (139_802, 6)\n",
       " ┌────────────┬────────────┬───────┬────────────┬─────────────┬────────────────┐\n",
       " │ time       ┆ screen     ┆ pupil ┆ subject_id ┆ stimulus_id ┆ pixel          │\n",
       " │ ---        ┆ ---        ┆ ---   ┆ ---        ┆ ---         ┆ ---            │\n",
       " │ f64        ┆ str        ┆ f64   ┆ str        ┆ str         ┆ list[f64]      │\n",
       " ╞════════════╪════════════╪═══════╪════════════╪═════════════╪════════════════╡\n",
       " │ 2.470379e6 ┆ page_1     ┆ 335.0 ┆ 007        ┆ stimulus_10 ┆ [62.1, 104.0]  │\n",
       " │ 2470379.5  ┆ page_1     ┆ 323.0 ┆ 007        ┆ stimulus_10 ┆ [62.6, 110.7]  │\n",
       " │ 2.47038e6  ┆ page_1     ┆ 320.0 ┆ 007        ┆ stimulus_10 ┆ [60.8, 110.0]  │\n",
       " │ 2470380.5  ┆ page_1     ┆ 313.0 ┆ 007        ┆ stimulus_10 ┆ [58.0, 109.5]  │\n",
       " │ …          ┆ …          ┆ …     ┆ …          ┆ …           ┆ …              │\n",
       " │ 2616895.5  ┆ question_6 ┆ 280.0 ┆ 007        ┆ stimulus_10 ┆ [525.1, 266.2] │\n",
       " │ 2.616896e6 ┆ question_6 ┆ 283.0 ┆ 007        ┆ stimulus_10 ┆ [529.1, 262.9] │\n",
       " │ 2616896.5  ┆ question_6 ┆ 289.0 ┆ 007        ┆ stimulus_10 ┆ [524.1, 263.4] │\n",
       " │ 2.616897e6 ┆ question_6 ┆ 285.0 ┆ 007        ┆ stimulus_10 ┆ [518.8, 260.3] │\n",
       " └────────────┴────────────┴───────┴────────────┴─────────────┴────────────────┘,\n",
       " Experiment(sampling_rate=2000, screen=Screen(width_px=1275, height_px=916, width_cm=37, height_cm=28, distance_cm=60, origin=upper left), eyetracker=None)\n",
       " shape: (205_169, 6)\n",
       " ┌────────────┬────────────┬───────┬────────────┬─────────────┬─────────────────┐\n",
       " │ time       ┆ screen     ┆ pupil ┆ subject_id ┆ stimulus_id ┆ pixel           │\n",
       " │ ---        ┆ ---        ┆ ---   ┆ ---        ┆ ---         ┆ ---             │\n",
       " │ f64        ┆ str        ┆ f64   ┆ str        ┆ str         ┆ list[f64]       │\n",
       " ╞════════════╪════════════╪═══════╪════════════╪═════════════╪═════════════════╡\n",
       " │ 2.67532e6  ┆ page_1     ┆ 0.0   ┆ 007        ┆ stimulus_11 ┆ [null, null]    │\n",
       " │ 2.675321e6 ┆ page_1     ┆ 0.0   ┆ 007        ┆ stimulus_11 ┆ [null, null]    │\n",
       " │ 2675321.5  ┆ page_1     ┆ 349.0 ┆ 007        ┆ stimulus_11 ┆ [68.1, 91.9]    │\n",
       " │ 2.675322e6 ┆ page_1     ┆ 318.0 ┆ 007        ┆ stimulus_11 ┆ [65.4, 103.6]   │\n",
       " │ …          ┆ …          ┆ …     ┆ …          ┆ …           ┆ …               │\n",
       " │ 2892251.5  ┆ question_6 ┆ 311.0 ┆ 007        ┆ stimulus_11 ┆ [1218.4, 851.3] │\n",
       " │ 2.892252e6 ┆ question_6 ┆ 324.0 ┆ 007        ┆ stimulus_11 ┆ [1213.8, 853.6] │\n",
       " │ 2892252.5  ┆ question_6 ┆ 317.0 ┆ 007        ┆ stimulus_11 ┆ [1218.2, 854.6] │\n",
       " │ 2.892253e6 ┆ question_6 ┆ 320.0 ┆ 007        ┆ stimulus_11 ┆ [1216.8, 851.8] │\n",
       " └────────────┴────────────┴───────┴────────────┴─────────────┴─────────────────┘,\n",
       " Experiment(sampling_rate=2000, screen=Screen(width_px=1275, height_px=916, width_cm=37, height_cm=28, distance_cm=60, origin=upper left), eyetracker=None)\n",
       " shape: (248_495, 6)\n",
       " ┌────────────┬────────────┬───────┬────────────┬─────────────┬─────────────────┐\n",
       " │ time       ┆ screen     ┆ pupil ┆ subject_id ┆ stimulus_id ┆ pixel           │\n",
       " │ ---        ┆ ---        ┆ ---   ┆ ---        ┆ ---         ┆ ---             │\n",
       " │ f64        ┆ str        ┆ f64   ┆ str        ┆ str         ┆ list[f64]       │\n",
       " ╞════════════╪════════════╪═══════╪════════════╪═════════════╪═════════════════╡\n",
       " │ 1.265109e6 ┆ page_1     ┆ 411.0 ┆ 007        ┆ stimulus_13 ┆ [62.0, 109.9]   │\n",
       " │ 1265109.5  ┆ page_1     ┆ 409.0 ┆ 007        ┆ stimulus_13 ┆ [62.4, 107.8]   │\n",
       " │ 1.26511e6  ┆ page_1     ┆ 409.0 ┆ 007        ┆ stimulus_13 ┆ [59.3, 105.6]   │\n",
       " │ 1265110.5  ┆ page_1     ┆ 408.0 ┆ 007        ┆ stimulus_13 ┆ [60.8, 109.9]   │\n",
       " │ …          ┆ …          ┆ …     ┆ …          ┆ …           ┆ …               │\n",
       " │ 1516395.5  ┆ question_6 ┆ 332.0 ┆ 007        ┆ stimulus_13 ┆ [1198.1, 866.1] │\n",
       " │ 1.516396e6 ┆ question_6 ┆ 325.0 ┆ 007        ┆ stimulus_13 ┆ [1198.1, 866.3] │\n",
       " │ 1516396.5  ┆ question_6 ┆ 336.0 ┆ 007        ┆ stimulus_13 ┆ [1201.0, 865.6] │\n",
       " │ 1.516397e6 ┆ question_6 ┆ 337.0 ┆ 007        ┆ stimulus_13 ┆ [1205.5, 865.9] │\n",
       " └────────────┴────────────┴───────┴────────────┴─────────────┴─────────────────┘,\n",
       " Experiment(sampling_rate=2000, screen=Screen(width_px=1275, height_px=916, width_cm=37, height_cm=28, distance_cm=60, origin=upper left), eyetracker=None)\n",
       " shape: (81_224, 6)\n",
       " ┌────────────┬────────────┬───────┬────────────┬─────────────┬─────────────────┐\n",
       " │ time       ┆ screen     ┆ pupil ┆ subject_id ┆ stimulus_id ┆ pixel           │\n",
       " │ ---        ┆ ---        ┆ ---   ┆ ---        ┆ ---         ┆ ---             │\n",
       " │ f64        ┆ str        ┆ f64   ┆ str        ┆ str         ┆ list[f64]       │\n",
       " ╞════════════╪════════════╪═══════╪════════════╪═════════════╪═════════════════╡\n",
       " │ 3.381075e6 ┆ page_1     ┆ 320.0 ┆ 007        ┆ stimulus_2  ┆ [70.5, 102.8]   │\n",
       " │ 3381075.5  ┆ page_1     ┆ 295.0 ┆ 007        ┆ stimulus_2  ┆ [71.0, 105.4]   │\n",
       " │ 3.381076e6 ┆ page_1     ┆ 298.0 ┆ 007        ┆ stimulus_2  ┆ [70.0, 101.4]   │\n",
       " │ 3381076.5  ┆ page_1     ┆ 294.0 ┆ 007        ┆ stimulus_2  ┆ [72.1, 103.5]   │\n",
       " │ …          ┆ …          ┆ …     ┆ …          ┆ …           ┆ …               │\n",
       " │ 3507044.5  ┆ question_6 ┆ 292.0 ┆ 007        ┆ stimulus_2  ┆ [1212.2, 856.2] │\n",
       " │ 3.507045e6 ┆ question_6 ┆ 296.0 ┆ 007        ┆ stimulus_2  ┆ [1210.4, 861.0] │\n",
       " │ 3507045.5  ┆ question_6 ┆ 294.0 ┆ 007        ┆ stimulus_2  ┆ [1210.8, 858.5] │\n",
       " │ 3.507046e6 ┆ question_6 ┆ 295.0 ┆ 007        ┆ stimulus_2  ┆ [1211.3, 856.8] │\n",
       " └────────────┴────────────┴───────┴────────────┴─────────────┴─────────────────┘,\n",
       " Experiment(sampling_rate=2000, screen=Screen(width_px=1275, height_px=916, width_cm=37, height_cm=28, distance_cm=60, origin=upper left), eyetracker=None)\n",
       " shape: (92_937, 6)\n",
       " ┌────────────┬────────────┬───────┬────────────┬─────────────┬─────────────────┐\n",
       " │ time       ┆ screen     ┆ pupil ┆ subject_id ┆ stimulus_id ┆ pixel           │\n",
       " │ ---        ┆ ---        ┆ ---   ┆ ---        ┆ ---         ┆ ---             │\n",
       " │ f64        ┆ str        ┆ f64   ┆ str        ┆ str         ┆ list[f64]       │\n",
       " ╞════════════╪════════════╪═══════╪════════════╪═════════════╪═════════════════╡\n",
       " │ 3.561693e6 ┆ page_1     ┆ 0.0   ┆ 007        ┆ stimulus_3  ┆ [null, null]    │\n",
       " │ 3561693.5  ┆ page_1     ┆ 415.0 ┆ 007        ┆ stimulus_3  ┆ [72.3, 123.7]   │\n",
       " │ 3.561694e6 ┆ page_1     ┆ 400.0 ┆ 007        ┆ stimulus_3  ┆ [72.3, 126.0]   │\n",
       " │ 3561694.5  ┆ page_1     ┆ 401.0 ┆ 007        ┆ stimulus_3  ┆ [69.8, 125.0]   │\n",
       " │ …          ┆ …          ┆ …     ┆ …          ┆ …           ┆ …               │\n",
       " │ 3698513.5  ┆ question_6 ┆ 306.0 ┆ 007        ┆ stimulus_3  ┆ [1210.4, 848.2] │\n",
       " │ 3.698514e6 ┆ question_6 ┆ 306.0 ┆ 007        ┆ stimulus_3  ┆ [1207.8, 850.8] │\n",
       " │ 3698514.5  ┆ question_6 ┆ 296.0 ┆ 007        ┆ stimulus_3  ┆ [1212.9, 850.6] │\n",
       " │ 3.698515e6 ┆ question_6 ┆ 306.0 ┆ 007        ┆ stimulus_3  ┆ [1203.4, 852.0] │\n",
       " └────────────┴────────────┴───────┴────────────┴─────────────┴─────────────────┘,\n",
       " Experiment(sampling_rate=2000, screen=Screen(width_px=1275, height_px=916, width_cm=37, height_cm=28, distance_cm=60, origin=upper left), eyetracker=None)\n",
       " shape: (206_308, 6)\n",
       " ┌────────────┬────────────┬───────┬────────────┬─────────────┬─────────────────────┐\n",
       " │ time       ┆ screen     ┆ pupil ┆ subject_id ┆ stimulus_id ┆ pixel               │\n",
       " │ ---        ┆ ---        ┆ ---   ┆ ---        ┆ ---         ┆ ---                 │\n",
       " │ f64        ┆ str        ┆ f64   ┆ str        ┆ str         ┆ list[str]           │\n",
       " ╞════════════╪════════════╪═══════╪════════════╪═════════════╪═════════════════════╡\n",
       " │ 3.774501e6 ┆ page_1     ┆ 0.0   ┆ 007        ┆ stimulus_4  ┆ [null, null]        │\n",
       " │ 3774501.5  ┆ page_1     ┆ 0.0   ┆ 007        ┆ stimulus_4  ┆ [null, null]        │\n",
       " │ 3.774502e6 ┆ page_1     ┆ 0.0   ┆ 007        ┆ stimulus_4  ┆ [null, null]        │\n",
       " │ 3774502.5  ┆ page_1     ┆ 0.0   ┆ 007        ┆ stimulus_4  ┆ [null, null]        │\n",
       " │ …          ┆ …          ┆ …     ┆ …          ┆ …           ┆ …                   │\n",
       " │ 4014271.5  ┆ question_6 ┆ 342.0 ┆ 007        ┆ stimulus_4  ┆ [\"1193.9\", \"853.4\"] │\n",
       " │ 4.014272e6 ┆ question_6 ┆ 342.0 ┆ 007        ┆ stimulus_4  ┆ [\"1189.7\", \"856.1\"] │\n",
       " │ 4014272.5  ┆ question_6 ┆ 337.0 ┆ 007        ┆ stimulus_4  ┆ [\"1197.2\", \"850.1\"] │\n",
       " │ 4.014273e6 ┆ question_6 ┆ 343.0 ┆ 007        ┆ stimulus_4  ┆ [\"1192.9\", \"848.7\"] │\n",
       " └────────────┴────────────┴───────┴────────────┴─────────────┴─────────────────────┘,\n",
       " Experiment(sampling_rate=2000, screen=Screen(width_px=1275, height_px=916, width_cm=37, height_cm=28, distance_cm=60, origin=upper left), eyetracker=None)\n",
       " shape: (108_939, 6)\n",
       " ┌────────────┬────────────┬───────┬────────────┬─────────────┬─────────────────────┐\n",
       " │ time       ┆ screen     ┆ pupil ┆ subject_id ┆ stimulus_id ┆ pixel               │\n",
       " │ ---        ┆ ---        ┆ ---   ┆ ---        ┆ ---         ┆ ---                 │\n",
       " │ f64        ┆ str        ┆ f64   ┆ str        ┆ str         ┆ list[str]           │\n",
       " ╞════════════╪════════════╪═══════╪════════════╪═════════════╪═════════════════════╡\n",
       " │ 2.983192e6 ┆ page_1     ┆ 0.0   ┆ 007        ┆ stimulus_6  ┆ [null, null]        │\n",
       " │ 2983192.5  ┆ page_1     ┆ 0.0   ┆ 007        ┆ stimulus_6  ┆ [null, null]        │\n",
       " │ 2.983193e6 ┆ page_1     ┆ 0.0   ┆ 007        ┆ stimulus_6  ┆ [null, null]        │\n",
       " │ 2983193.5  ┆ page_1     ┆ 0.0   ┆ 007        ┆ stimulus_6  ┆ [null, null]        │\n",
       " │ …          ┆ …          ┆ …     ┆ …          ┆ …           ┆ …                   │\n",
       " │ 3127944.5  ┆ question_6 ┆ 322.0 ┆ 007        ┆ stimulus_6  ┆ [\"1197.6\", \"887.6\"] │\n",
       " │ 3.127945e6 ┆ question_6 ┆ 321.0 ┆ 007        ┆ stimulus_6  ┆ [\"1198.3\", \"885.4\"] │\n",
       " │ 3127945.5  ┆ question_6 ┆ 319.0 ┆ 007        ┆ stimulus_6  ┆ [\"1199.4\", \"886.4\"] │\n",
       " │ 3.127946e6 ┆ question_6 ┆ 323.0 ┆ 007        ┆ stimulus_6  ┆ [\"1199.7\", \"890.7\"] │\n",
       " └────────────┴────────────┴───────┴────────────┴─────────────┴─────────────────────┘,\n",
       " Experiment(sampling_rate=2000, screen=Screen(width_px=1275, height_px=916, width_cm=37, height_cm=28, distance_cm=60, origin=upper left), eyetracker=None)\n",
       " shape: (461_469, 6)\n",
       " ┌────────────┬────────────┬───────┬────────────┬─────────────┬────────────────┐\n",
       " │ time       ┆ screen     ┆ pupil ┆ subject_id ┆ stimulus_id ┆ pixel          │\n",
       " │ ---        ┆ ---        ┆ ---   ┆ ---        ┆ ---         ┆ ---            │\n",
       " │ f64        ┆ str        ┆ f64   ┆ str        ┆ str         ┆ list[f64]      │\n",
       " ╞════════════╪════════════╪═══════╪════════════╪═════════════╪════════════════╡\n",
       " │ 1.581989e6 ┆ page_1     ┆ 385.0 ┆ 007        ┆ stimulus_7  ┆ [62.9, 113.5]  │\n",
       " │ 1581989.5  ┆ page_1     ┆ 385.0 ┆ 007        ┆ stimulus_7  ┆ [60.7, 110.0]  │\n",
       " │ 1.58199e6  ┆ page_1     ┆ 384.0 ┆ 007        ┆ stimulus_7  ┆ [69.5, 111.6]  │\n",
       " │ 1581990.5  ┆ page_1     ┆ 382.0 ┆ 007        ┆ stimulus_7  ┆ [65.2, 117.9]  │\n",
       " │ …          ┆ …          ┆ …     ┆ …          ┆ …           ┆ …              │\n",
       " │ 1941126.5  ┆ question_6 ┆ 300.0 ┆ 007        ┆ stimulus_7  ┆ [807.1, 413.7] │\n",
       " │ 1.941127e6 ┆ question_6 ┆ 302.0 ┆ 007        ┆ stimulus_7  ┆ [810.5, 414.7] │\n",
       " │ 1941127.5  ┆ question_6 ┆ 310.0 ┆ 007        ┆ stimulus_7  ┆ [813.5, 420.1] │\n",
       " │ 1.941128e6 ┆ question_6 ┆ 304.0 ┆ 007        ┆ stimulus_7  ┆ [817.4, 417.1] │\n",
       " └────────────┴────────────┴───────┴────────────┴─────────────┴────────────────┘,\n",
       " Experiment(sampling_rate=2000, screen=Screen(width_px=1275, height_px=916, width_cm=37, height_cm=28, distance_cm=60, origin=upper left), eyetracker=None)\n",
       " shape: (381_421, 6)\n",
       " ┌────────────┬────────────┬───────┬────────────┬─────────────┬─────────────────┐\n",
       " │ time       ┆ screen     ┆ pupil ┆ subject_id ┆ stimulus_id ┆ pixel           │\n",
       " │ ---        ┆ ---        ┆ ---   ┆ ---        ┆ ---         ┆ ---             │\n",
       " │ f64        ┆ str        ┆ f64   ┆ str        ┆ str         ┆ list[f64]       │\n",
       " ╞════════════╪════════════╪═══════╪════════════╪═════════════╪═════════════════╡\n",
       " │ 1.996309e6 ┆ page_1     ┆ 333.0 ┆ 007        ┆ stimulus_9  ┆ [1121.6, 864.0] │\n",
       " │ 1996309.5  ┆ page_1     ┆ 315.0 ┆ 007        ┆ stimulus_9  ┆ [1114.6, 877.0] │\n",
       " │ 1.99631e6  ┆ page_1     ┆ 316.0 ┆ 007        ┆ stimulus_9  ┆ [1113.1, 877.1] │\n",
       " │ 1996310.5  ┆ page_1     ┆ 315.0 ┆ 007        ┆ stimulus_9  ┆ [1113.3, 871.8] │\n",
       " │ …          ┆ …          ┆ …     ┆ …          ┆ …           ┆ …               │\n",
       " │ 2316994.5  ┆ question_6 ┆ 375.0 ┆ 007        ┆ stimulus_9  ┆ [1198.4, 870.3] │\n",
       " │ 2.316995e6 ┆ question_6 ┆ 375.0 ┆ 007        ┆ stimulus_9  ┆ [1202.2, 862.0] │\n",
       " │ 2316995.5  ┆ question_6 ┆ 372.0 ┆ 007        ┆ stimulus_9  ┆ [1204.5, 864.2] │\n",
       " │ 2.316996e6 ┆ question_6 ┆ 366.0 ┆ 007        ┆ stimulus_9  ┆ [1203.0, 861.9] │\n",
       " └────────────┴────────────┴───────┴────────────┴─────────────┴─────────────────┘]"
      ]
     },
     "execution_count": 8,
     "metadata": {},
     "output_type": "execute_result"
    }
   ],
   "source": [
    "dataset.gaze"
   ]
  }
 ],
 "metadata": {
  "kernelspec": {
   "display_name": ".venv",
   "language": "python",
   "name": "python3"
  },
  "language_info": {
   "codemirror_mode": {
    "name": "ipython",
    "version": 3
   },
   "file_extension": ".py",
   "mimetype": "text/x-python",
   "name": "python",
   "nbconvert_exporter": "python",
   "pygments_lexer": "ipython3",
   "version": "3.11.9"
  }
 },
 "nbformat": 4,
 "nbformat_minor": 2
}
