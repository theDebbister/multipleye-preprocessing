{
 "cells": [
  {
   "cell_type": "markdown",
   "metadata": {},
   "source": [
    "# MultiplEYE preprocessing"
   ]
  },
  {
   "cell_type": "code",
   "execution_count": 1,
   "metadata": {},
   "outputs": [],
   "source": [
    "from pathlib import Path\n",
    "\n",
    "data_dir = Path(\"../data/pilot-hr-1-zh\")\n",
    "stim_dir = Path(\"../data/stimuli_MultiplEYE_HR_CH_Zurich_1_2025\")\n",
    "output_dir = Path(\"output\")\n",
    "output_dir.mkdir(exist_ok=True)"
   ]
  },
  {
   "cell_type": "markdown",
   "metadata": {},
   "source": [
    "## EDF to ASC\n",
    "\n",
    "Use the `edf2asc` binary from the [EyeLink Developers Kit](https://www.sr-research.com/support/thread-13.html) to convert EDF files to ASC files.\n",
    "\n",
    "To discuss:\n",
    "- We probably can't distribute the binary due to licensing issues. (But we might be able to distribute a Docker image?)\n",
    "- There is already an [issue](https://github.com/aeye-lab/pymovements/issues/509) to integrate this into `pymovements`.\n",
    "- The `-input` option is unnecessary, but currently required by `parse_eyelink()` in `pymovements`."
   ]
  },
  {
   "cell_type": "code",
   "execution_count": 2,
   "metadata": {},
   "outputs": [
    {
     "name": "stdout",
     "output_type": "stream",
     "text": [
      "\n",
      "EDF2ASC: EyeLink EDF file -> ASCII (text) file translator\n",
      "EDF2ASC version 4.2.762.0 Linux   standalone Jul 20 2023 \n",
      "(c)1995-2023 by SR Research, last modified Jul 20 2023\n",
      "\n",
      "processing file ../data/pilot-hr-1-zh/ch1hr007.edf \n",
      "loadEvents = 1\n",
      "==============Preamble of file ../data/pilot-hr-1-zh/ch1hr007.edf==============\n",
      "| DATE: Wed Jun 19 17:49:30 2024                                              |\n",
      "| TYPE: EDF_FILE BINARY EVENT SAMPLE TAGGED                                   |\n",
      "| VERSION: EYELINK II 1                                                       |\n",
      "| SOURCE: EYELINK CL                                                          |\n",
      "| EYELINK II CL v6.14 Mar  6 2020 (EyeLink Portable Duo)                      |\n",
      "| CAMERA: EyeLink USBCAM Version 1.01                                         |\n",
      "| SERIAL NUMBER: CLU-DBE08                                                    |\n",
      "| CAMERA_CONFIG: DBE08200.SCD                                                 |\n",
      "| RECORDED BY libeyelink.py                                                   |\n",
      "===============================================================================\n",
      "\n",
      "missing sample at 819712.500000 \n",
      "missing sample at 1326461.500000 \n",
      "missing sample at 1391155.500000 \n",
      "missing sample at 1479871.500000 \n",
      "missing sample at 1597151.500000 \n",
      "missing sample at 1696457.500000 \n",
      "missing sample at 1851658.500000 \n",
      "missing sample at 1893137.500000 \n",
      "missing sample at 2159613.500000 \n",
      "missing sample at 2267274.500000 \n",
      "missing sample at 2493244.500000 \n",
      "missing sample at 2519612.500000 \n",
      "missing sample at 2608876.500000 \n",
      "missing s"
     ]
    },
    {
     "data": {
      "text/plain": [
       "CompletedProcess(args=['./edf2asc', PosixPath('../data/pilot-hr-1-zh/ch1hr007.edf'), '-input', '-p', PosixPath('output'), '-y'], returncode=255)"
      ]
     },
     "execution_count": 2,
     "metadata": {},
     "output_type": "execute_result"
    },
    {
     "name": "stdout",
     "output_type": "stream",
     "text": [
      "ample at 2675320.500000 \n",
      "missing sample at 2689794.500000 \n",
      "missing sample at 2692863.500000 \n",
      "missing sample at 2720722.500000 \n",
      "missing sample at 2822118.500000 \n",
      "missing sample at 3045886.500000 \n",
      "missing sample at 3106620.500000 \n",
      "missing sample at 3188916.500000 \n",
      "missing sample at 3206301.500000 \n",
      "missing sample at 3391546.500000 \n",
      "missing sample at 3420093.500000 \n",
      "missing sample at 3426127.500000 \n",
      "missing sample at 3578011.500000 \n",
      "missing sample at 3602479.500000 \n",
      "missing sample at 3645916.500000 \n",
      "missing sample at 3664998.500000 \n",
      "missing sample at 3683847.500000 \n",
      "missing sample at 3787312.500000 \n",
      "missing sample at 3818034.500000 \n",
      "missing sample at 3859301.500000 \n",
      "missing sample at 3864391.500000 \n",
      "missing sample at 3905822.500000 \n",
      "missing sample at 3981997.500000 \n",
      "Converted successfully: 26935 events, 3220492 samples, 404 blocks.\n"
     ]
    }
   ],
   "source": [
    "import subprocess\n",
    "\n",
    "edf = data_dir / \"ch1hr007.edf\"\n",
    "subprocess.run([\"./edf2asc\", edf, \"-input\", \"-p\", output_dir, \"-y\"])"
   ]
  },
  {
   "cell_type": "markdown",
   "metadata": {},
   "source": [
    "## ASC to sample CSV\n",
    "\n",
    "Convert the ASC files to a CSV file where each row is a sample.\n",
    "\n",
    "TODO:\n",
    "- Import experiment config (screen size etc.) from stimulus directory.\n",
    "- Split the CSV files into separate files for each trial/screen.\n",
    "- Extract metadata (not yet available through `from_asc()`)."
   ]
  },
  {
   "cell_type": "code",
   "execution_count": 3,
   "metadata": {},
   "outputs": [
    {
     "name": "stderr",
     "output_type": "stream",
     "text": [
      "/home/andreas/work/uzh/multipleye/multipleye-preprocessing/.venv/lib/python3.11/site-packages/tqdm/auto.py:21: TqdmWarning: IProgress not found. Please update jupyter and ipywidgets. See https://ipywidgets.readthedocs.io/en/stable/user_install.html\n",
      "  from .autonotebook import tqdm as notebook_tqdm\n"
     ]
    }
   ],
   "source": [
    "import pymovements as pm\n",
    "import polars as pl\n",
    "\n",
    "asc = output_dir / \"ch1hr007.asc\"\n",
    "\n",
    "experiment = pm.Experiment(\n",
    "    sampling_rate=1000,\n",
    "    screen_width_px=1275,\n",
    "    screen_height_px=916,\n",
    "    screen_width_cm=37,\n",
    "    screen_height_cm=28,\n",
    "    distance_cm=60,\n",
    ")\n",
    "data = pm.gaze.from_asc(\n",
    "    asc,\n",
    "    patterns=[\n",
    "        r\"start_recording_(?P<trial>(?:PRACTICE_)?trial_\\d+)_(?P<screen>.+)\",\n",
    "        {\"pattern\": r\"stop_recording_\", \"column\": \"trial\", \"value\": None},\n",
    "        {\"pattern\": r\"stop_recording_\", \"column\": \"screen\", \"value\": None},\n",
    "        {\n",
    "            \"pattern\": r\"start_recording_(?:PRACTICE_)?trial_\\d+_page_\\d+\",\n",
    "            \"column\": \"activity\",\n",
    "            \"value\": \"reading\",\n",
    "        },\n",
    "        {\n",
    "            \"pattern\": r\"start_recording_(?:PRACTICE_)?trial_\\d+_question_\\d+\",\n",
    "            \"column\": \"activity\",\n",
    "            \"value\": \"question\",\n",
    "        },\n",
    "        {\n",
    "            \"pattern\": r\"start_recording_(?:PRACTICE_)?trial_\\d+_(familiarity_rating_screen_\\d+|subject_difficulty_screen)\",\n",
    "            \"column\": \"activity\",\n",
    "            \"value\": \"rating\",\n",
    "        },\n",
    "        {\"pattern\": r\"stop_recording_\", \"column\": \"activity\", \"value\": None},\n",
    "        {\n",
    "            \"pattern\": r\"start_recording_PRACTICE_trial_\",\n",
    "            \"column\": \"practice\",\n",
    "            \"value\": True,\n",
    "        },\n",
    "        {\n",
    "            \"pattern\": r\"start_recording_trial_\",\n",
    "            \"column\": \"practice\",\n",
    "            \"value\": False,\n",
    "        },\n",
    "        {\"pattern\": r\"stop_recording_\", \"column\": \"practice\", \"value\": None},\n",
    "    ],\n",
    "    # trial_columns=[\"trial\", \"screen\"],\n",
    "    experiment=experiment,\n",
    ")\n",
    "\n",
    "# Convert [x, y] pixel column to separate pixel_x and piyel_y columns\n",
    "df = data.frame.select(\n",
    "    [\n",
    "        pl.all().exclude(\"pixel\"),\n",
    "        pl.col(\"pixel\").list.get(0).alias(\"pixel_x\"),\n",
    "        pl.col(\"pixel\").list.get(1).alias(\"pixel_y\"),\n",
    "    ]\n",
    ")\n",
    "\n",
    "df.write_csv(output_dir / f\"samples_ch1hr007.csv\")"
   ]
  }
 ],
 "metadata": {
  "kernelspec": {
   "display_name": ".venv",
   "language": "python",
   "name": "python3"
  },
  "language_info": {
   "codemirror_mode": {
    "name": "ipython",
    "version": 3
   },
   "file_extension": ".py",
   "mimetype": "text/x-python",
   "name": "python",
   "nbconvert_exporter": "python",
   "pygments_lexer": "ipython3",
   "version": "3.11.9"
  }
 },
 "nbformat": 4,
 "nbformat_minor": 2
}
