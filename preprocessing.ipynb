{
 "cells": [
  {
   "cell_type": "markdown",
   "metadata": {},
   "source": [
    "# MultiplEYE preprocessing"
   ]
  },
  {
   "cell_type": "code",
   "execution_count": 1,
   "metadata": {},
   "outputs": [],
   "source": [
    "from pathlib import Path\n",
    "\n",
    "data_dir = Path(\"../data/pilot-hr-1-zh\")\n",
    "stim_dir = Path(\"../data/stimuli_MultiplEYE_HR_CH_Zurich_1_2025\")\n",
    "output_dir = Path(\"output\")\n",
    "output_dir.mkdir(exist_ok=True)"
   ]
  },
  {
   "cell_type": "markdown",
   "metadata": {},
   "source": [
    "## EDF to ASC\n",
    "\n",
    "Use the `edf2asc` binary from the [EyeLink Developers Kit](https://www.sr-research.com/support/thread-13.html) to convert EDF files to ASC files.\n",
    "\n",
    "To discuss:\n",
    "- We probably can't distribute the binary due to licensing issues. (But we might be able to distribute a Docker image?)\n",
    "- There is already an [issue](https://github.com/aeye-lab/pymovements/issues/509) to integrate this into `pymovements`.\n",
    "- The `-input` option is unnecessary, but currently required by `parse_eyelink()` in `pymovements`.\n",
    "- The `-ftime` option would make handling 2kHz ASC files easier, but `pymovements` doesn't support floating point timestamps yet (https://github.com/aeye-lab/pymovements/pull/739)."
   ]
  },
  {
   "cell_type": "code",
   "execution_count": 2,
   "metadata": {},
   "outputs": [
    {
     "name": "stdout",
     "output_type": "stream",
     "text": [
      "\n",
      "EDF2ASC: EyeLink EDF file -> ASCII (text) file translator\n",
      "EDF2ASC version 4.2.762.0 Linux   standalone Jul 20 2023 \n",
      "(c)1995-2023 by SR Research, last modified Jul 20 2023\n",
      "\n",
      "processing file ../data/pilot-hr-1-zh/ch1hr007.edf \n",
      "loadEvents = 1\n",
      "==============Preamble of file ../data/pilot-hr-1-zh/ch1hr007.edf==============\n",
      "| DATE: Wed Jun 19 17:49:30 2024                                              |\n",
      "| TYPE: EDF_FILE BINARY EVENT SAMPLE TAGGED                                   |\n",
      "| VERSION: EYELINK II 1                                                       |\n",
      "| SOURCE: EYELINK CL                                                          |\n",
      "| EYELINK II CL v6.14 Mar  6 2020 (EyeLink Portable Duo)                      |\n",
      "| CAMERA: EyeLink USBCAM Version 1.01                                         |\n",
      "| SERIAL NUMBER: CLU-DBE08                                                    |\n",
      "| CAMERA_CONFIG: DBE08200.SCD                                                 |\n",
      "| RECORDED BY libeyelink.py                                                   |\n",
      "===============================================================================\n",
      "\n",
      "missing sample at 819712.500000 \n",
      "missing sample at 1326461.500000 \n",
      "missing sample at 1391155.500000 \n",
      "missing sample at 1479871.500000 \n",
      "missing sample at 1597151.500000 \n",
      "missing sample at 1696457.500000 \n",
      "missing sample at 1851658.500000 \n",
      "missing sample at 1893137.500000 \n",
      "missing sample at 2159613.500000 \n",
      "missing sample at 2267274.500000 \n",
      "missing sample at 2493244.500000 \n",
      "missing sample at 2519612.500000 \n",
      "missing sample at 2608876.500000 \n",
      "missing s"
     ]
    },
    {
     "data": {
      "text/plain": [
       "CompletedProcess(args=['./edf2asc', PosixPath('../data/pilot-hr-1-zh/ch1hr007.edf'), '-input', '-ftime', '-p', PosixPath('output'), '-y'], returncode=255)"
      ]
     },
     "execution_count": 2,
     "metadata": {},
     "output_type": "execute_result"
    },
    {
     "name": "stdout",
     "output_type": "stream",
     "text": [
      "ample at 2675320.500000 \n",
      "missing sample at 2689794.500000 \n",
      "missing sample at 2692863.500000 \n",
      "missing sample at 2720722.500000 \n",
      "missing sample at 2822118.500000 \n",
      "missing sample at 3045886.500000 \n",
      "missing sample at 3106620.500000 \n",
      "missing sample at 3188916.500000 \n",
      "missing sample at 3206301.500000 \n",
      "missing sample at 3391546.500000 \n",
      "missing sample at 3420093.500000 \n",
      "missing sample at 3426127.500000 \n",
      "missing sample at 3578011.500000 \n",
      "missing sample at 3602479.500000 \n",
      "missing sample at 3645916.500000 \n",
      "missing sample at 3664998.500000 \n",
      "missing sample at 3683847.500000 \n",
      "missing sample at 3787312.500000 \n",
      "missing sample at 3818034.500000 \n",
      "missing sample at 3859301.500000 \n",
      "missing sample at 3864391.500000 \n",
      "missing sample at 3905822.500000 \n",
      "missing sample at 3981997.500000 \n",
      "Converted successfully: 26935 events, 3220492 samples, 404 blocks.\n"
     ]
    }
   ],
   "source": [
    "import subprocess\n",
    "\n",
    "edf = data_dir / \"ch1hr007.edf\"\n",
    "subprocess.run([\"./edf2asc\", edf, \"-input\", \"-ftime\", \"-p\", output_dir, \"-y\"])"
   ]
  },
  {
   "cell_type": "markdown",
   "metadata": {},
   "source": [
    "## ASC to sample-level CSV\n",
    "\n",
    "Convert the ASC files to CSV files (one for each page) where each row is a sample."
   ]
  },
  {
   "cell_type": "markdown",
   "metadata": {},
   "source": [
    "### Parse ASC file"
   ]
  },
  {
   "cell_type": "code",
   "execution_count": 6,
   "metadata": {},
   "outputs": [
    {
     "data": {
      "text/html": [
       "<div><style>\n",
       ".dataframe > thead > tr,\n",
       ".dataframe > tbody > tr {\n",
       "  text-align: right;\n",
       "  white-space: pre-wrap;\n",
       "}\n",
       "</style>\n",
       "<small>shape: (3_220_492, 7)</small><table border=\"1\" class=\"dataframe\"><thead><tr><th>time</th><th>pupil</th><th>practice</th><th>trial</th><th>activity</th><th>screen</th><th>pixel</th></tr><tr><td>f64</td><td>f64</td><td>bool</td><td>str</td><td>str</td><td>str</td><td>list[f64]</td></tr></thead><tbody><tr><td>709376.0</td><td>206.0</td><td>null</td><td>null</td><td>null</td><td>null</td><td>[102.2, 101.4]</td></tr><tr><td>709376.5</td><td>210.0</td><td>null</td><td>null</td><td>null</td><td>null</td><td>[104.1, 99.8]</td></tr><tr><td>709377.0</td><td>206.0</td><td>null</td><td>null</td><td>null</td><td>null</td><td>[99.1, 106.5]</td></tr><tr><td>709377.5</td><td>204.0</td><td>null</td><td>null</td><td>null</td><td>null</td><td>[85.2, 103.3]</td></tr><tr><td>709378.0</td><td>202.0</td><td>null</td><td>null</td><td>null</td><td>null</td><td>[98.2, 106.7]</td></tr><tr><td>709378.5</td><td>209.0</td><td>null</td><td>null</td><td>null</td><td>null</td><td>[100.2, 91.7]</td></tr><tr><td>709379.0</td><td>203.0</td><td>null</td><td>null</td><td>null</td><td>null</td><td>[97.9, 96.4]</td></tr><tr><td>709379.5</td><td>206.0</td><td>null</td><td>null</td><td>null</td><td>null</td><td>[109.3, 103.4]</td></tr><tr><td>709380.0</td><td>203.0</td><td>null</td><td>null</td><td>null</td><td>null</td><td>[93.6, 105.4]</td></tr><tr><td>709380.5</td><td>204.0</td><td>null</td><td>null</td><td>null</td><td>null</td><td>[94.6, 103.7]</td></tr><tr><td>709381.0</td><td>205.0</td><td>null</td><td>null</td><td>null</td><td>null</td><td>[87.4, 103.6]</td></tr><tr><td>709381.5</td><td>202.0</td><td>null</td><td>null</td><td>null</td><td>null</td><td>[87.5, 114.8]</td></tr><tr><td>&hellip;</td><td>&hellip;</td><td>&hellip;</td><td>&hellip;</td><td>&hellip;</td><td>&hellip;</td><td>&hellip;</td></tr><tr><td>4014267.5</td><td>348.0</td><td>false</td><td>&quot;trial_10&quot;</td><td>&quot;question&quot;</td><td>&quot;question_6&quot;</td><td>[1190.3, 854.7]</td></tr><tr><td>4.014268e6</td><td>339.0</td><td>false</td><td>&quot;trial_10&quot;</td><td>&quot;question&quot;</td><td>&quot;question_6&quot;</td><td>[1193.9, 850.7]</td></tr><tr><td>4014268.5</td><td>343.0</td><td>false</td><td>&quot;trial_10&quot;</td><td>&quot;question&quot;</td><td>&quot;question_6&quot;</td><td>[1188.9, 861.8]</td></tr><tr><td>4.014269e6</td><td>342.0</td><td>false</td><td>&quot;trial_10&quot;</td><td>&quot;question&quot;</td><td>&quot;question_6&quot;</td><td>[1190.1, 848.1]</td></tr><tr><td>4014269.5</td><td>340.0</td><td>false</td><td>&quot;trial_10&quot;</td><td>&quot;question&quot;</td><td>&quot;question_6&quot;</td><td>[1193.6, 850.4]</td></tr><tr><td>4.01427e6</td><td>341.0</td><td>false</td><td>&quot;trial_10&quot;</td><td>&quot;question&quot;</td><td>&quot;question_6&quot;</td><td>[1195.8, 859.0]</td></tr><tr><td>4014270.5</td><td>337.0</td><td>false</td><td>&quot;trial_10&quot;</td><td>&quot;question&quot;</td><td>&quot;question_6&quot;</td><td>[1192.0, 852.7]</td></tr><tr><td>4.014271e6</td><td>345.0</td><td>false</td><td>&quot;trial_10&quot;</td><td>&quot;question&quot;</td><td>&quot;question_6&quot;</td><td>[1192.4, 854.6]</td></tr><tr><td>4014271.5</td><td>342.0</td><td>false</td><td>&quot;trial_10&quot;</td><td>&quot;question&quot;</td><td>&quot;question_6&quot;</td><td>[1193.9, 853.4]</td></tr><tr><td>4.014272e6</td><td>342.0</td><td>false</td><td>&quot;trial_10&quot;</td><td>&quot;question&quot;</td><td>&quot;question_6&quot;</td><td>[1189.7, 856.1]</td></tr><tr><td>4014272.5</td><td>337.0</td><td>false</td><td>&quot;trial_10&quot;</td><td>&quot;question&quot;</td><td>&quot;question_6&quot;</td><td>[1197.2, 850.1]</td></tr><tr><td>4.014273e6</td><td>343.0</td><td>false</td><td>&quot;trial_10&quot;</td><td>&quot;question&quot;</td><td>&quot;question_6&quot;</td><td>[1192.9, 848.7]</td></tr></tbody></table></div>"
      ],
      "text/plain": [
       "shape: (3_220_492, 7)\n",
       "┌────────────┬───────┬──────────┬──────────┬──────────┬────────────┬─────────────────┐\n",
       "│ time       ┆ pupil ┆ practice ┆ trial    ┆ activity ┆ screen     ┆ pixel           │\n",
       "│ ---        ┆ ---   ┆ ---      ┆ ---      ┆ ---      ┆ ---        ┆ ---             │\n",
       "│ f64        ┆ f64   ┆ bool     ┆ str      ┆ str      ┆ str        ┆ list[f64]       │\n",
       "╞════════════╪═══════╪══════════╪══════════╪══════════╪════════════╪═════════════════╡\n",
       "│ 709376.0   ┆ 206.0 ┆ null     ┆ null     ┆ null     ┆ null       ┆ [102.2, 101.4]  │\n",
       "│ 709376.5   ┆ 210.0 ┆ null     ┆ null     ┆ null     ┆ null       ┆ [104.1, 99.8]   │\n",
       "│ 709377.0   ┆ 206.0 ┆ null     ┆ null     ┆ null     ┆ null       ┆ [99.1, 106.5]   │\n",
       "│ 709377.5   ┆ 204.0 ┆ null     ┆ null     ┆ null     ┆ null       ┆ [85.2, 103.3]   │\n",
       "│ …          ┆ …     ┆ …        ┆ …        ┆ …        ┆ …          ┆ …               │\n",
       "│ 4014271.5  ┆ 342.0 ┆ false    ┆ trial_10 ┆ question ┆ question_6 ┆ [1193.9, 853.4] │\n",
       "│ 4.014272e6 ┆ 342.0 ┆ false    ┆ trial_10 ┆ question ┆ question_6 ┆ [1189.7, 856.1] │\n",
       "│ 4014272.5  ┆ 337.0 ┆ false    ┆ trial_10 ┆ question ┆ question_6 ┆ [1197.2, 850.1] │\n",
       "│ 4.014273e6 ┆ 343.0 ┆ false    ┆ trial_10 ┆ question ┆ question_6 ┆ [1192.9, 848.7] │\n",
       "└────────────┴───────┴──────────┴──────────┴──────────┴────────────┴─────────────────┘"
      ]
     },
     "execution_count": 6,
     "metadata": {},
     "output_type": "execute_result"
    }
   ],
   "source": [
    "import csv\n",
    "\n",
    "import polars as pl\n",
    "import pymovements as pm\n",
    "\n",
    "asc = output_dir / \"ch1hr007.asc\"\n",
    "\n",
    "experiment = pm.Experiment(\n",
    "    sampling_rate=2000,\n",
    "    screen_width_px=1275,\n",
    "    screen_height_px=916,\n",
    "    screen_width_cm=37,\n",
    "    screen_height_cm=28,\n",
    "    distance_cm=60,\n",
    ")\n",
    "data = pm.gaze.from_asc(\n",
    "    asc,\n",
    "    patterns=[\n",
    "        r\"start_recording_(?P<trial>(?:PRACTICE_)?trial_\\d+)_(?P<screen>.+)\",\n",
    "        {\"pattern\": r\"stop_recording_\", \"column\": \"trial\", \"value\": None},\n",
    "        {\"pattern\": r\"stop_recording_\", \"column\": \"screen\", \"value\": None},\n",
    "        {\n",
    "            \"pattern\": r\"start_recording_(?:PRACTICE_)?trial_\\d+_page_\\d+\",\n",
    "            \"column\": \"activity\",\n",
    "            \"value\": \"reading\",\n",
    "        },\n",
    "        {\n",
    "            \"pattern\": r\"start_recording_(?:PRACTICE_)?trial_\\d+_question_\\d+\",\n",
    "            \"column\": \"activity\",\n",
    "            \"value\": \"question\",\n",
    "        },\n",
    "        {\n",
    "            \"pattern\": r\"start_recording_(?:PRACTICE_)?trial_\\d+_(familiarity_rating_screen_\\d+|subject_difficulty_screen)\",\n",
    "            \"column\": \"activity\",\n",
    "            \"value\": \"rating\",\n",
    "        },\n",
    "        {\"pattern\": r\"stop_recording_\", \"column\": \"activity\", \"value\": None},\n",
    "        {\n",
    "            \"pattern\": r\"start_recording_PRACTICE_trial_\",\n",
    "            \"column\": \"practice\",\n",
    "            \"value\": True,\n",
    "        },\n",
    "        {\n",
    "            \"pattern\": r\"start_recording_trial_\",\n",
    "            \"column\": \"practice\",\n",
    "            \"value\": False,\n",
    "        },\n",
    "        {\"pattern\": r\"stop_recording_\", \"column\": \"practice\", \"value\": None},\n",
    "    ],\n",
    "    trial_columns=[\"trial\", \"screen\"],\n",
    "    experiment=experiment,\n",
    ")\n",
    "data.frame"
   ]
  },
  {
   "cell_type": "markdown",
   "metadata": {},
   "source": [
    "### Map trial numbers to stimulus IDs"
   ]
  },
  {
   "cell_type": "code",
   "execution_count": 7,
   "metadata": {},
   "outputs": [
    {
     "data": {
      "text/html": [
       "<div><style>\n",
       ".dataframe > thead > tr,\n",
       ".dataframe > tbody > tr {\n",
       "  text-align: right;\n",
       "  white-space: pre-wrap;\n",
       "}\n",
       "</style>\n",
       "<small>shape: (3_220_492, 8)</small><table border=\"1\" class=\"dataframe\"><thead><tr><th>time</th><th>pupil</th><th>practice</th><th>trial</th><th>activity</th><th>screen</th><th>pixel</th><th>stimulus_id</th></tr><tr><td>f64</td><td>f64</td><td>bool</td><td>str</td><td>str</td><td>str</td><td>list[f64]</td><td>str</td></tr></thead><tbody><tr><td>709376.0</td><td>206.0</td><td>null</td><td>null</td><td>null</td><td>null</td><td>[102.2, 101.4]</td><td>null</td></tr><tr><td>709376.5</td><td>210.0</td><td>null</td><td>null</td><td>null</td><td>null</td><td>[104.1, 99.8]</td><td>null</td></tr><tr><td>709377.0</td><td>206.0</td><td>null</td><td>null</td><td>null</td><td>null</td><td>[99.1, 106.5]</td><td>null</td></tr><tr><td>709377.5</td><td>204.0</td><td>null</td><td>null</td><td>null</td><td>null</td><td>[85.2, 103.3]</td><td>null</td></tr><tr><td>709378.0</td><td>202.0</td><td>null</td><td>null</td><td>null</td><td>null</td><td>[98.2, 106.7]</td><td>null</td></tr><tr><td>709378.5</td><td>209.0</td><td>null</td><td>null</td><td>null</td><td>null</td><td>[100.2, 91.7]</td><td>null</td></tr><tr><td>709379.0</td><td>203.0</td><td>null</td><td>null</td><td>null</td><td>null</td><td>[97.9, 96.4]</td><td>null</td></tr><tr><td>709379.5</td><td>206.0</td><td>null</td><td>null</td><td>null</td><td>null</td><td>[109.3, 103.4]</td><td>null</td></tr><tr><td>709380.0</td><td>203.0</td><td>null</td><td>null</td><td>null</td><td>null</td><td>[93.6, 105.4]</td><td>null</td></tr><tr><td>709380.5</td><td>204.0</td><td>null</td><td>null</td><td>null</td><td>null</td><td>[94.6, 103.7]</td><td>null</td></tr><tr><td>709381.0</td><td>205.0</td><td>null</td><td>null</td><td>null</td><td>null</td><td>[87.4, 103.6]</td><td>null</td></tr><tr><td>709381.5</td><td>202.0</td><td>null</td><td>null</td><td>null</td><td>null</td><td>[87.5, 114.8]</td><td>null</td></tr><tr><td>&hellip;</td><td>&hellip;</td><td>&hellip;</td><td>&hellip;</td><td>&hellip;</td><td>&hellip;</td><td>&hellip;</td><td>&hellip;</td></tr><tr><td>4014267.5</td><td>348.0</td><td>false</td><td>&quot;trial_10&quot;</td><td>&quot;question&quot;</td><td>&quot;question_6&quot;</td><td>[1190.3, 854.7]</td><td>&quot;4&quot;</td></tr><tr><td>4.014268e6</td><td>339.0</td><td>false</td><td>&quot;trial_10&quot;</td><td>&quot;question&quot;</td><td>&quot;question_6&quot;</td><td>[1193.9, 850.7]</td><td>&quot;4&quot;</td></tr><tr><td>4014268.5</td><td>343.0</td><td>false</td><td>&quot;trial_10&quot;</td><td>&quot;question&quot;</td><td>&quot;question_6&quot;</td><td>[1188.9, 861.8]</td><td>&quot;4&quot;</td></tr><tr><td>4.014269e6</td><td>342.0</td><td>false</td><td>&quot;trial_10&quot;</td><td>&quot;question&quot;</td><td>&quot;question_6&quot;</td><td>[1190.1, 848.1]</td><td>&quot;4&quot;</td></tr><tr><td>4014269.5</td><td>340.0</td><td>false</td><td>&quot;trial_10&quot;</td><td>&quot;question&quot;</td><td>&quot;question_6&quot;</td><td>[1193.6, 850.4]</td><td>&quot;4&quot;</td></tr><tr><td>4.01427e6</td><td>341.0</td><td>false</td><td>&quot;trial_10&quot;</td><td>&quot;question&quot;</td><td>&quot;question_6&quot;</td><td>[1195.8, 859.0]</td><td>&quot;4&quot;</td></tr><tr><td>4014270.5</td><td>337.0</td><td>false</td><td>&quot;trial_10&quot;</td><td>&quot;question&quot;</td><td>&quot;question_6&quot;</td><td>[1192.0, 852.7]</td><td>&quot;4&quot;</td></tr><tr><td>4.014271e6</td><td>345.0</td><td>false</td><td>&quot;trial_10&quot;</td><td>&quot;question&quot;</td><td>&quot;question_6&quot;</td><td>[1192.4, 854.6]</td><td>&quot;4&quot;</td></tr><tr><td>4014271.5</td><td>342.0</td><td>false</td><td>&quot;trial_10&quot;</td><td>&quot;question&quot;</td><td>&quot;question_6&quot;</td><td>[1193.9, 853.4]</td><td>&quot;4&quot;</td></tr><tr><td>4.014272e6</td><td>342.0</td><td>false</td><td>&quot;trial_10&quot;</td><td>&quot;question&quot;</td><td>&quot;question_6&quot;</td><td>[1189.7, 856.1]</td><td>&quot;4&quot;</td></tr><tr><td>4014272.5</td><td>337.0</td><td>false</td><td>&quot;trial_10&quot;</td><td>&quot;question&quot;</td><td>&quot;question_6&quot;</td><td>[1197.2, 850.1]</td><td>&quot;4&quot;</td></tr><tr><td>4.014273e6</td><td>343.0</td><td>false</td><td>&quot;trial_10&quot;</td><td>&quot;question&quot;</td><td>&quot;question_6&quot;</td><td>[1192.9, 848.7]</td><td>&quot;4&quot;</td></tr></tbody></table></div>"
      ],
      "text/plain": [
       "shape: (3_220_492, 8)\n",
       "┌────────────┬───────┬──────────┬──────────┬──────────┬────────────┬─────────────────┬─────────────┐\n",
       "│ time       ┆ pupil ┆ practice ┆ trial    ┆ activity ┆ screen     ┆ pixel           ┆ stimulus_id │\n",
       "│ ---        ┆ ---   ┆ ---      ┆ ---      ┆ ---      ┆ ---        ┆ ---             ┆ ---         │\n",
       "│ f64        ┆ f64   ┆ bool     ┆ str      ┆ str      ┆ str        ┆ list[f64]       ┆ str         │\n",
       "╞════════════╪═══════╪══════════╪══════════╪══════════╪════════════╪═════════════════╪═════════════╡\n",
       "│ 709376.0   ┆ 206.0 ┆ null     ┆ null     ┆ null     ┆ null       ┆ [102.2, 101.4]  ┆ null        │\n",
       "│ 709376.5   ┆ 210.0 ┆ null     ┆ null     ┆ null     ┆ null       ┆ [104.1, 99.8]   ┆ null        │\n",
       "│ 709377.0   ┆ 206.0 ┆ null     ┆ null     ┆ null     ┆ null       ┆ [99.1, 106.5]   ┆ null        │\n",
       "│ 709377.5   ┆ 204.0 ┆ null     ┆ null     ┆ null     ┆ null       ┆ [85.2, 103.3]   ┆ null        │\n",
       "│ …          ┆ …     ┆ …        ┆ …        ┆ …        ┆ …          ┆ …               ┆ …           │\n",
       "│ 4014271.5  ┆ 342.0 ┆ false    ┆ trial_10 ┆ question ┆ question_6 ┆ [1193.9, 853.4] ┆ 4           │\n",
       "│ 4.014272e6 ┆ 342.0 ┆ false    ┆ trial_10 ┆ question ┆ question_6 ┆ [1189.7, 856.1] ┆ 4           │\n",
       "│ 4014272.5  ┆ 337.0 ┆ false    ┆ trial_10 ┆ question ┆ question_6 ┆ [1197.2, 850.1] ┆ 4           │\n",
       "│ 4.014273e6 ┆ 343.0 ┆ false    ┆ trial_10 ┆ question ┆ question_6 ┆ [1192.9, 848.7] ┆ 4           │\n",
       "└────────────┴───────┴──────────┴──────────┴──────────┴────────────┴─────────────────┴─────────────┘"
      ]
     },
     "execution_count": 7,
     "metadata": {},
     "output_type": "execute_result"
    }
   ],
   "source": [
    "stimulus_ids = {}\n",
    "with open(data_dir / \"logfiles\" / \"completed_stimuli.csv\") as f:\n",
    "    reader = csv.DictReader(f)\n",
    "    for i, row in enumerate(reader):\n",
    "        stimulus_ids[f\"trial_{i + 1}\"] = row[\"stimulus_id\"]\n",
    "\n",
    "df = data.frame.with_columns(\n",
    "    pl.col(\"trial\").replace(stimulus_ids).alias(\"stimulus_id\")\n",
    ")\n",
    "df"
   ]
  },
  {
   "cell_type": "markdown",
   "metadata": {},
   "source": [
    "### Write separate CSVs for each page"
   ]
  },
  {
   "cell_type": "markdown",
   "metadata": {},
   "source": [
    "Convert [x, y] pixel column to separate pixel_x and piyel_y columns. This is necessary because polars does not support nested values when exporting CSV."
   ]
  },
  {
   "cell_type": "code",
   "execution_count": 8,
   "metadata": {},
   "outputs": [
    {
     "data": {
      "text/html": [
       "<div><style>\n",
       ".dataframe > thead > tr,\n",
       ".dataframe > tbody > tr {\n",
       "  text-align: right;\n",
       "  white-space: pre-wrap;\n",
       "}\n",
       "</style>\n",
       "<small>shape: (3_220_492, 9)</small><table border=\"1\" class=\"dataframe\"><thead><tr><th>time</th><th>pupil</th><th>practice</th><th>trial</th><th>activity</th><th>screen</th><th>stimulus_id</th><th>pixel_x</th><th>pixel_y</th></tr><tr><td>f64</td><td>f64</td><td>bool</td><td>str</td><td>str</td><td>str</td><td>str</td><td>f64</td><td>f64</td></tr></thead><tbody><tr><td>709376.0</td><td>206.0</td><td>null</td><td>null</td><td>null</td><td>null</td><td>null</td><td>102.2</td><td>101.4</td></tr><tr><td>709376.5</td><td>210.0</td><td>null</td><td>null</td><td>null</td><td>null</td><td>null</td><td>104.1</td><td>99.8</td></tr><tr><td>709377.0</td><td>206.0</td><td>null</td><td>null</td><td>null</td><td>null</td><td>null</td><td>99.1</td><td>106.5</td></tr><tr><td>709377.5</td><td>204.0</td><td>null</td><td>null</td><td>null</td><td>null</td><td>null</td><td>85.2</td><td>103.3</td></tr><tr><td>709378.0</td><td>202.0</td><td>null</td><td>null</td><td>null</td><td>null</td><td>null</td><td>98.2</td><td>106.7</td></tr><tr><td>709378.5</td><td>209.0</td><td>null</td><td>null</td><td>null</td><td>null</td><td>null</td><td>100.2</td><td>91.7</td></tr><tr><td>709379.0</td><td>203.0</td><td>null</td><td>null</td><td>null</td><td>null</td><td>null</td><td>97.9</td><td>96.4</td></tr><tr><td>709379.5</td><td>206.0</td><td>null</td><td>null</td><td>null</td><td>null</td><td>null</td><td>109.3</td><td>103.4</td></tr><tr><td>709380.0</td><td>203.0</td><td>null</td><td>null</td><td>null</td><td>null</td><td>null</td><td>93.6</td><td>105.4</td></tr><tr><td>709380.5</td><td>204.0</td><td>null</td><td>null</td><td>null</td><td>null</td><td>null</td><td>94.6</td><td>103.7</td></tr><tr><td>709381.0</td><td>205.0</td><td>null</td><td>null</td><td>null</td><td>null</td><td>null</td><td>87.4</td><td>103.6</td></tr><tr><td>709381.5</td><td>202.0</td><td>null</td><td>null</td><td>null</td><td>null</td><td>null</td><td>87.5</td><td>114.8</td></tr><tr><td>&hellip;</td><td>&hellip;</td><td>&hellip;</td><td>&hellip;</td><td>&hellip;</td><td>&hellip;</td><td>&hellip;</td><td>&hellip;</td><td>&hellip;</td></tr><tr><td>4014267.5</td><td>348.0</td><td>false</td><td>&quot;trial_10&quot;</td><td>&quot;question&quot;</td><td>&quot;question_6&quot;</td><td>&quot;4&quot;</td><td>1190.3</td><td>854.7</td></tr><tr><td>4.014268e6</td><td>339.0</td><td>false</td><td>&quot;trial_10&quot;</td><td>&quot;question&quot;</td><td>&quot;question_6&quot;</td><td>&quot;4&quot;</td><td>1193.9</td><td>850.7</td></tr><tr><td>4014268.5</td><td>343.0</td><td>false</td><td>&quot;trial_10&quot;</td><td>&quot;question&quot;</td><td>&quot;question_6&quot;</td><td>&quot;4&quot;</td><td>1188.9</td><td>861.8</td></tr><tr><td>4.014269e6</td><td>342.0</td><td>false</td><td>&quot;trial_10&quot;</td><td>&quot;question&quot;</td><td>&quot;question_6&quot;</td><td>&quot;4&quot;</td><td>1190.1</td><td>848.1</td></tr><tr><td>4014269.5</td><td>340.0</td><td>false</td><td>&quot;trial_10&quot;</td><td>&quot;question&quot;</td><td>&quot;question_6&quot;</td><td>&quot;4&quot;</td><td>1193.6</td><td>850.4</td></tr><tr><td>4.01427e6</td><td>341.0</td><td>false</td><td>&quot;trial_10&quot;</td><td>&quot;question&quot;</td><td>&quot;question_6&quot;</td><td>&quot;4&quot;</td><td>1195.8</td><td>859.0</td></tr><tr><td>4014270.5</td><td>337.0</td><td>false</td><td>&quot;trial_10&quot;</td><td>&quot;question&quot;</td><td>&quot;question_6&quot;</td><td>&quot;4&quot;</td><td>1192.0</td><td>852.7</td></tr><tr><td>4.014271e6</td><td>345.0</td><td>false</td><td>&quot;trial_10&quot;</td><td>&quot;question&quot;</td><td>&quot;question_6&quot;</td><td>&quot;4&quot;</td><td>1192.4</td><td>854.6</td></tr><tr><td>4014271.5</td><td>342.0</td><td>false</td><td>&quot;trial_10&quot;</td><td>&quot;question&quot;</td><td>&quot;question_6&quot;</td><td>&quot;4&quot;</td><td>1193.9</td><td>853.4</td></tr><tr><td>4.014272e6</td><td>342.0</td><td>false</td><td>&quot;trial_10&quot;</td><td>&quot;question&quot;</td><td>&quot;question_6&quot;</td><td>&quot;4&quot;</td><td>1189.7</td><td>856.1</td></tr><tr><td>4014272.5</td><td>337.0</td><td>false</td><td>&quot;trial_10&quot;</td><td>&quot;question&quot;</td><td>&quot;question_6&quot;</td><td>&quot;4&quot;</td><td>1197.2</td><td>850.1</td></tr><tr><td>4.014273e6</td><td>343.0</td><td>false</td><td>&quot;trial_10&quot;</td><td>&quot;question&quot;</td><td>&quot;question_6&quot;</td><td>&quot;4&quot;</td><td>1192.9</td><td>848.7</td></tr></tbody></table></div>"
      ],
      "text/plain": [
       "shape: (3_220_492, 9)\n",
       "┌────────────┬───────┬──────────┬──────────┬───┬────────────┬─────────────┬─────────┬─────────┐\n",
       "│ time       ┆ pupil ┆ practice ┆ trial    ┆ … ┆ screen     ┆ stimulus_id ┆ pixel_x ┆ pixel_y │\n",
       "│ ---        ┆ ---   ┆ ---      ┆ ---      ┆   ┆ ---        ┆ ---         ┆ ---     ┆ ---     │\n",
       "│ f64        ┆ f64   ┆ bool     ┆ str      ┆   ┆ str        ┆ str         ┆ f64     ┆ f64     │\n",
       "╞════════════╪═══════╪══════════╪══════════╪═══╪════════════╪═════════════╪═════════╪═════════╡\n",
       "│ 709376.0   ┆ 206.0 ┆ null     ┆ null     ┆ … ┆ null       ┆ null        ┆ 102.2   ┆ 101.4   │\n",
       "│ 709376.5   ┆ 210.0 ┆ null     ┆ null     ┆ … ┆ null       ┆ null        ┆ 104.1   ┆ 99.8    │\n",
       "│ 709377.0   ┆ 206.0 ┆ null     ┆ null     ┆ … ┆ null       ┆ null        ┆ 99.1    ┆ 106.5   │\n",
       "│ 709377.5   ┆ 204.0 ┆ null     ┆ null     ┆ … ┆ null       ┆ null        ┆ 85.2    ┆ 103.3   │\n",
       "│ …          ┆ …     ┆ …        ┆ …        ┆ … ┆ …          ┆ …           ┆ …       ┆ …       │\n",
       "│ 4014271.5  ┆ 342.0 ┆ false    ┆ trial_10 ┆ … ┆ question_6 ┆ 4           ┆ 1193.9  ┆ 853.4   │\n",
       "│ 4.014272e6 ┆ 342.0 ┆ false    ┆ trial_10 ┆ … ┆ question_6 ┆ 4           ┆ 1189.7  ┆ 856.1   │\n",
       "│ 4014272.5  ┆ 337.0 ┆ false    ┆ trial_10 ┆ … ┆ question_6 ┆ 4           ┆ 1197.2  ┆ 850.1   │\n",
       "│ 4.014273e6 ┆ 343.0 ┆ false    ┆ trial_10 ┆ … ┆ question_6 ┆ 4           ┆ 1192.9  ┆ 848.7   │\n",
       "└────────────┴───────┴──────────┴──────────┴───┴────────────┴─────────────┴─────────┴─────────┘"
      ]
     },
     "execution_count": 8,
     "metadata": {},
     "output_type": "execute_result"
    }
   ],
   "source": [
    "df = df.select(\n",
    "    [\n",
    "        pl.all().exclude(\"pixel\"),\n",
    "        pl.col(\"pixel\").list.get(0).alias(\"pixel_x\"),\n",
    "        pl.col(\"pixel\").list.get(1).alias(\"pixel_y\"),\n",
    "    ]\n",
    ")\n",
    "df"
   ]
  },
  {
   "cell_type": "markdown",
   "metadata": {},
   "source": [
    "Split data into CSV files."
   ]
  },
  {
   "cell_type": "code",
   "execution_count": 11,
   "metadata": {},
   "outputs": [],
   "source": [
    "csv_dir = output_dir / \"007\"\n",
    "csv_dir.mkdir(exist_ok=True)\n",
    "\n",
    "stimulus_screen_practice = df[[\"stimulus_id\", \"screen\", \"practice\"]].unique()\n",
    "for stimulus_id, screen, practice in stimulus_screen_practice.iter_rows():\n",
    "    if stimulus_id is not None:\n",
    "        screen_df = df.filter((pl.col(\"stimulus_id\") == stimulus_id) & (pl.col(\"screen\") == screen))\n",
    "        screen_df = screen_df.select([\n",
    "            pl.col(\"time\"),\n",
    "            pl.col(\"pixel_x\"),\n",
    "            pl.col(\"pixel_y\"),\n",
    "            pl.col(\"pupil\"),\n",
    "        ])\n",
    "        if practice:\n",
    "            screen_df.write_csv(csv_dir / f\"{stimulus_id}__{screen}.csv\")\n",
    "        else:\n",
    "            screen_df.write_csv(csv_dir / f\"stimulus_{stimulus_id}__{screen}.csv\")"
   ]
  }
 ],
 "metadata": {
  "kernelspec": {
   "display_name": ".venv",
   "language": "python",
   "name": "python3"
  },
  "language_info": {
   "codemirror_mode": {
    "name": "ipython",
    "version": 3
   },
   "file_extension": ".py",
   "mimetype": "text/x-python",
   "name": "python",
   "nbconvert_exporter": "python",
   "pygments_lexer": "ipython3",
   "version": "3.11.9"
  }
 },
 "nbformat": 4,
 "nbformat_minor": 2
}
